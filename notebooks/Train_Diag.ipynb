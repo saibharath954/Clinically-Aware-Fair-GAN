{
  "nbformat": 4,
  "nbformat_minor": 0,
  "metadata": {
    "colab": {
      "provenance": [],
      "gpuType": "T4"
    },
    "kernelspec": {
      "name": "python3",
      "display_name": "Python 3"
    },
    "language_info": {
      "name": "python"
    },
    "accelerator": "GPU"
  },
  "cells": [
    {
      "cell_type": "code",
      "execution_count": 2,
      "metadata": {
        "id": "YrhYk2bxB_Yx",
        "colab": {
          "base_uri": "https://localhost:8080/"
        },
        "outputId": "f10c4155-59f2-4858-f4a1-b1af4d26f366"
      },
      "outputs": [
        {
          "output_type": "stream",
          "name": "stdout",
          "text": [
            "Mounted at /content/drive\n"
          ]
        }
      ],
      "source": [
        "from google.colab import drive\n",
        "drive.mount('/content/drive')"
      ]
    },
    {
      "cell_type": "code",
      "source": [
        "import os\n",
        "\n",
        "# Navigate to your project directory in Google Drive\n",
        "%cd /content/drive/MyDrive/CAF-GAN/\n",
        "\n",
        "# Unzip the image files (this might take a few minutes)\n",
        "# The -q makes the output quiet, -n prevents unzipping if already done\n",
        "!unzip -q -n mimic-cxr-jpg-2.0.0.zip\n",
        "\n",
        "print(\"✅ Workspace ready and images unzipped.\")"
      ],
      "metadata": {
        "colab": {
          "base_uri": "https://localhost:8080/"
        },
        "id": "xaXxPXf_CZ0A",
        "outputId": "63ec0edf-084a-4b62-ff0b-af0feef83c57"
      },
      "execution_count": null,
      "outputs": [
        {
          "output_type": "stream",
          "name": "stdout",
          "text": [
            "/content/drive/MyDrive/CAF-GAN\n",
            "✅ Workspace ready and images unzipped.\n"
          ]
        }
      ]
    },
    {
      "cell_type": "code",
      "source": [
        "!pip install pyyaml pandas scikit-learn albumentations segmentation-models-pytorch -q"
      ],
      "metadata": {
        "id": "d8VZ0P_1C4Kq",
        "colab": {
          "base_uri": "https://localhost:8080/"
        },
        "outputId": "49db8c89-219e-4feb-926a-ab9d339d6366"
      },
      "execution_count": 3,
      "outputs": [
        {
          "output_type": "stream",
          "name": "stdout",
          "text": [
            "\u001b[?25l   \u001b[90m━━━━━━━━━━━━━━━━━━━━━━━━━━━━━━━━━━━━━━━━\u001b[0m \u001b[32m0.0/154.8 kB\u001b[0m \u001b[31m?\u001b[0m eta \u001b[36m-:--:--\u001b[0m\r\u001b[2K   \u001b[90m━━━━━━━━━━━━━━━━━━━━━━━━━━━━━━━━━━━━━━━━\u001b[0m \u001b[32m154.8/154.8 kB\u001b[0m \u001b[31m13.5 MB/s\u001b[0m eta \u001b[36m0:00:00\u001b[0m\n",
            "\u001b[?25h"
          ]
        }
      ]
    },
    {
      "cell_type": "code",
      "source": [
        "import os\n",
        "import torch\n",
        "import numpy as np\n",
        "import pandas as pd\n",
        "from torch.utils.data import Dataset\n",
        "from PIL import Image\n",
        "\n",
        "# This single dataset file will serve both critic training scripts.\n",
        "\n",
        "class MIMICCXRClassifierDataset(Dataset):\n",
        "    \"\"\"\n",
        "    Dataset for the Cdiag (classification) task.\n",
        "    - Loads a JPG image.\n",
        "    - Converts it to RGB (as required by ResNet).\n",
        "    - Returns the image and its corresponding Pneumonia label.\n",
        "    \"\"\"\n",
        "    def __init__(self, df, image_dir, transform=None):\n",
        "        self.df = df\n",
        "        self.image_dir = image_dir\n",
        "        self.transform = transform\n",
        "\n",
        "    def __len__(self):\n",
        "        return len(self.df)\n",
        "\n",
        "    def __getitem__(self, idx):\n",
        "        row = self.df.iloc[idx]\n",
        "        subject_id = str(row['subject_id'])\n",
        "        study_id = str(row['study_id'])\n",
        "        dicom_id = row['dicom_id']\n",
        "\n",
        "        # Construct the path to the JPG image\n",
        "        image_path = os.path.join(\n",
        "            self.image_dir, f'p{subject_id[:2]}', f'p{subject_id}', f's{study_id}', f'{dicom_id}.jpg'\n",
        "        )\n",
        "\n",
        "        # Load image and convert to a numpy array in RGB format\n",
        "        image = Image.open(image_path).convert(\"RGB\")\n",
        "        image = np.array(image)\n",
        "\n",
        "        # Apply augmentations\n",
        "        if self.transform:\n",
        "            augmented = self.transform(image=image)\n",
        "            image = augmented['image']\n",
        "\n",
        "        # Get the label\n",
        "        label = torch.tensor(row['Pneumonia'], dtype=torch.float32)\n",
        "\n",
        "        return image, label.unsqueeze(0)\n",
        "\n",
        "\n",
        "class MIMICXRSegmentationDataset(Dataset):\n",
        "    \"\"\"\n",
        "    Dataset for the Cseg (segmentation) task.\n",
        "    - Loads a JPG image (as 3-channel RGB). <--- UPDATED\n",
        "    - Loads its corresponding pre-generated PNG mask.\n",
        "    - Returns both the image and the mask.\n",
        "    \"\"\"\n",
        "    def __init__(self, df, image_dir, mask_dir, transform=None):\n",
        "        self.df = df\n",
        "        self.image_dir = image_dir\n",
        "        self.mask_dir = mask_dir\n",
        "        self.transform = transform\n",
        "\n",
        "    def __len__(self):\n",
        "        return len(self.df)\n",
        "\n",
        "    def __getitem__(self, idx):\n",
        "        row = self.df.iloc[idx]\n",
        "        subject_id = str(row['subject_id'])\n",
        "        study_id = str(row['study_id'])\n",
        "        dicom_id = row['dicom_id']\n",
        "\n",
        "        image_path = os.path.join(\n",
        "            self.image_dir, f'p{subject_id[:2]}', f'p{subject_id}', f's{study_id}', f'{dicom_id}.jpg'\n",
        "        )\n",
        "        mask_path = os.path.join(self.mask_dir, f\"{dicom_id}.png\")\n",
        "\n",
        "        # --- KEY CHANGE ---\n",
        "        # Load image and convert to RGB to match the model's expected input channels.\n",
        "        image = np.array(Image.open(image_path).convert(\"RGB\"), dtype=np.float32)\n",
        "\n",
        "        # Load mask as grayscale\n",
        "        mask = np.array(Image.open(mask_path).convert(\"L\"), dtype=np.float32)\n",
        "\n",
        "        # RESIZE THE IMAGE to match the mask size (256×256) BEFORE augmentation\n",
        "        image = np.array(Image.fromarray(image.astype(np.uint8)).resize((256, 256), Image.BILINEAR))\n",
        "\n",
        "        # Normalize mask values from [0, 255] to [0.0, 1.0]\n",
        "        mask[mask == 255.0] = 1.0\n",
        "\n",
        "        # Apply augmentations (Albumentations will now see matching input sizes from the Resize transform)\n",
        "        if self.transform:\n",
        "            augmented = self.transform(image=image, mask=mask)\n",
        "            image = augmented['image']\n",
        "            mask = augmented['mask']\n",
        "\n",
        "        # Add a channel dimension for the mask for consistency\n",
        "        return image, mask.unsqueeze(0)"
      ],
      "metadata": {
        "id": "rDVWP3_8C-gw"
      },
      "execution_count": 1,
      "outputs": []
    },
    {
      "cell_type": "code",
      "source": [
        "import yaml\n",
        "\n",
        "# Notice the paths now point to our Colab workspace in Google Drive\n",
        "config_yaml = \"\"\"\n",
        "# Configuration for training the Cdiag (Pneumonia Classifier) model\n",
        "\n",
        "# --- Data Paths ---\n",
        "IMAGE_DIR: \"/content/drive/MyDrive/CAF-GAN/mimic-cxr-jpg-2.0.0/files/\"\n",
        "TRAIN_CSV_PATH: \"/content/drive/MyDrive/CAF-GAN/data/splits/train.csv\"\n",
        "VAL_CSV_PATH: \"/content/drive/MyDrive/CAF-GAN/data/splits/val.csv\"\n",
        "\n",
        "# --- Output Paths ---\n",
        "OUTPUT_DIR: \"/content/drive/MyDrive/CAF-GAN/outputs/cdiag/\"\n",
        "MODEL_NAME: \"best_cdiag_colab.pth\"\n",
        "\n",
        "# --- Model & Training Hyperparameters ---\n",
        "IMG_SIZE: 256\n",
        "BATCH_SIZE: 32  # We can use a larger batch size on a Colab GPU\n",
        "EPOCHS: 20\n",
        "LEARNING_RATE: 0.0001\n",
        "\n",
        "# --- System ---\n",
        "DEVICE: \"cuda\"\n",
        "NUM_WORKERS: 2\n",
        "\"\"\"\n",
        "\n",
        "CONFIG = yaml.safe_load(config_yaml)\n",
        "print(\"Configuration loaded:\")\n",
        "print(CONFIG)"
      ],
      "metadata": {
        "id": "87Yg_DB4DIR3",
        "colab": {
          "base_uri": "https://localhost:8080/"
        },
        "outputId": "8da8fc24-621b-47ad-93b8-68eed7d3c1a8"
      },
      "execution_count": 4,
      "outputs": [
        {
          "output_type": "stream",
          "name": "stdout",
          "text": [
            "Configuration loaded:\n",
            "{'IMAGE_DIR': '/content/drive/MyDrive/CAF-GAN/mimic-cxr-jpg-2.0.0/files/', 'TRAIN_CSV_PATH': '/content/drive/MyDrive/CAF-GAN/data/splits/train.csv', 'VAL_CSV_PATH': '/content/drive/MyDrive/CAF-GAN/data/splits/val.csv', 'OUTPUT_DIR': '/content/drive/MyDrive/CAF-GAN/outputs/cdiag/', 'MODEL_NAME': 'best_cdiag_colab.pth', 'IMG_SIZE': 256, 'BATCH_SIZE': 32, 'EPOCHS': 20, 'LEARNING_RATE': 0.0001, 'DEVICE': 'cuda', 'NUM_WORKERS': 2}\n"
          ]
        }
      ]
    },
    {
      "cell_type": "code",
      "source": [
        "import torch\n",
        "import torch.nn as nn\n",
        "import torch.optim as optim\n",
        "from torch.utils.data import DataLoader, Dataset\n",
        "import torchvision.models as models\n",
        "import pandas as pd\n",
        "from tqdm import tqdm\n",
        "import os\n",
        "import albumentations as A\n",
        "from albumentations.pytorch import ToTensorV2\n",
        "from PIL import Image\n",
        "import numpy as np\n",
        "# The dataset classes are already defined in a previous cell\n",
        "\n",
        "# --- ⚙️ Setup ---\n",
        "# The CONFIG dictionary is already loaded from the previous cell\n",
        "DEVICE = 'cuda' if torch.cuda.is_available() else 'cpu'\n",
        "os.makedirs(CONFIG['OUTPUT_DIR'], exist_ok=True)\n",
        "print(f\"Using device: {DEVICE}\")\n",
        "\n",
        "# --- 🏋️‍♀️ Training & Validation Functions ---\n",
        "def train_one_epoch(model, dataloader, optimizer, criterion, device):\n",
        "    model.train()\n",
        "    running_loss = 0.0\n",
        "    for images, labels in tqdm(dataloader, desc=\"Training\"):\n",
        "        images, labels = images.to(device), labels.to(device)\n",
        "        optimizer.zero_grad()\n",
        "        outputs = model(images)\n",
        "        loss = criterion(outputs, labels)\n",
        "        loss.backward()\n",
        "        optimizer.step()\n",
        "        running_loss += loss.item() * images.size(0)\n",
        "    return running_loss / len(dataloader.dataset)\n",
        "\n",
        "def validate(model, dataloader, criterion, device):\n",
        "    model.eval()\n",
        "    running_loss = 0.0\n",
        "    correct_preds = 0\n",
        "    with torch.no_grad():\n",
        "        for images, labels in tqdm(dataloader, desc=\"Validating\"):\n",
        "            images, labels = images.to(device), labels.to(device)\n",
        "            outputs = model(images)\n",
        "            loss = criterion(outputs, labels)\n",
        "            running_loss += loss.item() * images.size(0)\n",
        "            preds = torch.sigmoid(outputs) > 0.5\n",
        "            correct_preds += (preds == labels).sum().item()\n",
        "\n",
        "    val_loss = running_loss / len(dataloader.dataset)\n",
        "    val_acc = correct_preds / len(dataloader.dataset)\n",
        "    return val_loss, val_acc\n",
        "\n",
        "# --- 🚀 Main Execution ---\n",
        "def run_training():\n",
        "    # --- Data Loading & Augmentation ---\n",
        "    train_transform = A.Compose([\n",
        "        A.Resize(CONFIG['IMG_SIZE'], CONFIG['IMG_SIZE']),\n",
        "        A.HorizontalFlip(p=0.5),\n",
        "        A.Rotate(limit=15, p=0.7),\n",
        "        A.RandomBrightnessContrast(p=0.5),\n",
        "        A.Normalize(mean=[0.485, 0.456, 0.406], std=[0.229, 0.224, 0.225]),\n",
        "        ToTensorV2(),\n",
        "    ])\n",
        "\n",
        "    val_transform = A.Compose([\n",
        "        A.Resize(CONFIG['IMG_SIZE'], CONFIG['IMG_SIZE']),\n",
        "        A.Normalize(mean=[0.485, 0.456, 0.406], std=[0.229, 0.224, 0.225]),\n",
        "        ToTensorV2(),\n",
        "    ])\n",
        "\n",
        "    train_df = pd.read_csv(CONFIG['TRAIN_CSV_PATH'])\n",
        "    val_df = pd.read_csv(CONFIG['VAL_CSV_PATH'])\n",
        "\n",
        "    train_dataset = MIMICCXRClassifierDataset(train_df, CONFIG['IMAGE_DIR'], transform=train_transform)\n",
        "    val_dataset = MIMICCXRClassifierDataset(val_df, CONFIG['IMAGE_DIR'], transform=val_transform)\n",
        "\n",
        "    train_loader = DataLoader(train_dataset, batch_size=CONFIG['BATCH_SIZE'], shuffle=True, num_workers=CONFIG['NUM_WORKERS'])\n",
        "    val_loader = DataLoader(val_dataset, batch_size=CONFIG['BATCH_SIZE'], shuffle=False, num_workers=CONFIG['NUM_WORKERS'])\n",
        "\n",
        "    # --- Model Setup ---\n",
        "    model = models.resnet50(weights='IMAGENET1K_V1')\n",
        "    model.fc = nn.Linear(model.fc.in_features, 1)\n",
        "    model.to(DEVICE)\n",
        "\n",
        "    criterion = nn.BCEWithLogitsLoss()\n",
        "    optimizer = optim.Adam(model.parameters(), lr=CONFIG['LEARNING_RATE'])\n",
        "\n",
        "    best_val_loss = float('inf')\n",
        "\n",
        "    # --- Training Loop ---\n",
        "    for epoch in range(CONFIG['EPOCHS']):\n",
        "        print(f\"\\n--- Epoch {epoch+1}/{CONFIG['EPOCHS']} ---\")\n",
        "        train_loss = train_one_epoch(model, train_loader, optimizer, criterion, DEVICE)\n",
        "        val_loss, val_acc = validate(model, val_loader, criterion, DEVICE)\n",
        "\n",
        "        print(f\"Train Loss: {train_loss:.4f} | Val Loss: {val_loss:.4f} | Val Accuracy: {val_acc:.4f}\")\n",
        "\n",
        "        if val_loss < best_val_loss:\n",
        "            best_val_loss = val_loss\n",
        "            model_path = os.path.join(CONFIG['OUTPUT_DIR'], CONFIG['MODEL_NAME'])\n",
        "            torch.save(model.state_dict(), model_path)\n",
        "            print(f\"✨ New best model saved to {model_path}\")\n",
        "\n",
        "    print(\"\\n✅ Training of Cdiag complete!\")\n",
        "\n",
        "# Run the training process\n",
        "run_training()"
      ],
      "metadata": {
        "colab": {
          "base_uri": "https://localhost:8080/"
        },
        "id": "3LRfvu61DWoV",
        "outputId": "5f3a9bbd-4f7a-47dd-b716-aca798bbd295"
      },
      "execution_count": 5,
      "outputs": [
        {
          "metadata": {
            "tags": null
          },
          "name": "stdout",
          "output_type": "stream",
          "text": [
            "Using device: cuda\n",
            "Downloading: \"https://download.pytorch.org/models/resnet50-0676ba61.pth\" to /root/.cache/torch/hub/checkpoints/resnet50-0676ba61.pth\n"
          ]
        },
        {
          "metadata": {
            "tags": null
          },
          "name": "stderr",
          "output_type": "stream",
          "text": [
            "100%|██████████| 97.8M/97.8M [00:00<00:00, 192MB/s]\n"
          ]
        },
        {
          "metadata": {
            "tags": null
          },
          "name": "stdout",
          "output_type": "stream",
          "text": [
            "\n",
            "--- Epoch 1/20 ---\n"
          ]
        },
        {
          "output_type": "stream",
          "name": "stderr",
          "text": [
            "Training: 100%|██████████| 44/44 [15:40<00:00, 21.38s/it]\n",
            "Validating: 100%|██████████| 10/10 [03:30<00:00, 21.08s/it]\n"
          ]
        },
        {
          "output_type": "stream",
          "name": "stdout",
          "text": [
            "Train Loss: 0.6677 | Val Loss: 0.6163 | Val Accuracy: 0.6600\n",
            "✨ New best model saved to /content/drive/MyDrive/CAF-GAN/outputs/cdiag/best_cdiag_colab.pth\n",
            "\n",
            "--- Epoch 2/20 ---\n"
          ]
        },
        {
          "output_type": "stream",
          "name": "stderr",
          "text": [
            "Training: 100%|██████████| 44/44 [01:35<00:00,  2.18s/it]\n",
            "Validating: 100%|██████████| 10/10 [00:21<00:00,  2.10s/it]\n"
          ]
        },
        {
          "output_type": "stream",
          "name": "stdout",
          "text": [
            "Train Loss: 0.5986 | Val Loss: 0.6603 | Val Accuracy: 0.6800\n",
            "\n",
            "--- Epoch 3/20 ---\n"
          ]
        },
        {
          "output_type": "stream",
          "name": "stderr",
          "text": [
            "Training: 100%|██████████| 44/44 [01:38<00:00,  2.24s/it]\n",
            "Validating: 100%|██████████| 10/10 [00:20<00:00,  2.06s/it]\n"
          ]
        },
        {
          "output_type": "stream",
          "name": "stdout",
          "text": [
            "Train Loss: 0.5575 | Val Loss: 0.6395 | Val Accuracy: 0.6233\n",
            "\n",
            "--- Epoch 4/20 ---\n"
          ]
        },
        {
          "output_type": "stream",
          "name": "stderr",
          "text": [
            "Training: 100%|██████████| 44/44 [01:38<00:00,  2.24s/it]\n",
            "Validating: 100%|██████████| 10/10 [00:19<00:00,  1.99s/it]\n"
          ]
        },
        {
          "output_type": "stream",
          "name": "stdout",
          "text": [
            "Train Loss: 0.5294 | Val Loss: 0.6861 | Val Accuracy: 0.6667\n",
            "\n",
            "--- Epoch 5/20 ---\n"
          ]
        },
        {
          "output_type": "stream",
          "name": "stderr",
          "text": [
            "Training: 100%|██████████| 44/44 [01:41<00:00,  2.32s/it]\n",
            "Validating: 100%|██████████| 10/10 [00:19<00:00,  1.99s/it]\n"
          ]
        },
        {
          "output_type": "stream",
          "name": "stdout",
          "text": [
            "Train Loss: 0.4720 | Val Loss: 0.7663 | Val Accuracy: 0.6033\n",
            "\n",
            "--- Epoch 6/20 ---\n"
          ]
        },
        {
          "output_type": "stream",
          "name": "stderr",
          "text": [
            "Training: 100%|██████████| 44/44 [01:41<00:00,  2.31s/it]\n",
            "Validating: 100%|██████████| 10/10 [00:19<00:00,  1.97s/it]\n"
          ]
        },
        {
          "output_type": "stream",
          "name": "stdout",
          "text": [
            "Train Loss: 0.4276 | Val Loss: 0.7407 | Val Accuracy: 0.6800\n",
            "\n",
            "--- Epoch 7/20 ---\n"
          ]
        },
        {
          "output_type": "stream",
          "name": "stderr",
          "text": [
            "Training: 100%|██████████| 44/44 [01:41<00:00,  2.31s/it]\n",
            "Validating: 100%|██████████| 10/10 [00:20<00:00,  2.00s/it]\n"
          ]
        },
        {
          "output_type": "stream",
          "name": "stdout",
          "text": [
            "Train Loss: 0.3818 | Val Loss: 0.8811 | Val Accuracy: 0.6767\n",
            "\n",
            "--- Epoch 8/20 ---\n"
          ]
        },
        {
          "output_type": "stream",
          "name": "stderr",
          "text": [
            "Training: 100%|██████████| 44/44 [01:42<00:00,  2.33s/it]\n",
            "Validating: 100%|██████████| 10/10 [00:20<00:00,  2.01s/it]\n"
          ]
        },
        {
          "output_type": "stream",
          "name": "stdout",
          "text": [
            "Train Loss: 0.3065 | Val Loss: 0.9475 | Val Accuracy: 0.6400\n",
            "\n",
            "--- Epoch 9/20 ---\n"
          ]
        },
        {
          "output_type": "stream",
          "name": "stderr",
          "text": [
            "Training: 100%|██████████| 44/44 [01:43<00:00,  2.35s/it]\n",
            "Validating: 100%|██████████| 10/10 [00:20<00:00,  2.03s/it]\n"
          ]
        },
        {
          "output_type": "stream",
          "name": "stdout",
          "text": [
            "Train Loss: 0.2955 | Val Loss: 1.2725 | Val Accuracy: 0.6667\n",
            "\n",
            "--- Epoch 10/20 ---\n"
          ]
        },
        {
          "output_type": "stream",
          "name": "stderr",
          "text": [
            "Training: 100%|██████████| 44/44 [01:42<00:00,  2.33s/it]\n",
            "Validating: 100%|██████████| 10/10 [00:19<00:00,  1.99s/it]\n"
          ]
        },
        {
          "output_type": "stream",
          "name": "stdout",
          "text": [
            "Train Loss: 0.2717 | Val Loss: 0.8627 | Val Accuracy: 0.6800\n",
            "\n",
            "--- Epoch 11/20 ---\n"
          ]
        },
        {
          "output_type": "stream",
          "name": "stderr",
          "text": [
            "Training: 100%|██████████| 44/44 [01:42<00:00,  2.32s/it]\n",
            "Validating: 100%|██████████| 10/10 [00:19<00:00,  2.00s/it]\n"
          ]
        },
        {
          "output_type": "stream",
          "name": "stdout",
          "text": [
            "Train Loss: 0.2274 | Val Loss: 0.9855 | Val Accuracy: 0.6967\n",
            "\n",
            "--- Epoch 12/20 ---\n"
          ]
        },
        {
          "output_type": "stream",
          "name": "stderr",
          "text": [
            "Training: 100%|██████████| 44/44 [01:42<00:00,  2.32s/it]\n",
            "Validating: 100%|██████████| 10/10 [00:20<00:00,  2.01s/it]\n"
          ]
        },
        {
          "output_type": "stream",
          "name": "stdout",
          "text": [
            "Train Loss: 0.2349 | Val Loss: 0.9656 | Val Accuracy: 0.6500\n",
            "\n",
            "--- Epoch 13/20 ---\n"
          ]
        },
        {
          "output_type": "stream",
          "name": "stderr",
          "text": [
            "Training: 100%|██████████| 44/44 [01:41<00:00,  2.30s/it]\n",
            "Validating: 100%|██████████| 10/10 [00:19<00:00,  1.99s/it]\n"
          ]
        },
        {
          "output_type": "stream",
          "name": "stdout",
          "text": [
            "Train Loss: 0.1880 | Val Loss: 1.0389 | Val Accuracy: 0.6667\n",
            "\n",
            "--- Epoch 14/20 ---\n"
          ]
        },
        {
          "output_type": "stream",
          "name": "stderr",
          "text": [
            "Training: 100%|██████████| 44/44 [01:40<00:00,  2.27s/it]\n",
            "Validating: 100%|██████████| 10/10 [00:19<00:00,  1.96s/it]\n"
          ]
        },
        {
          "output_type": "stream",
          "name": "stdout",
          "text": [
            "Train Loss: 0.1483 | Val Loss: 1.1956 | Val Accuracy: 0.6533\n",
            "\n",
            "--- Epoch 15/20 ---\n"
          ]
        },
        {
          "output_type": "stream",
          "name": "stderr",
          "text": [
            "Training: 100%|██████████| 44/44 [01:42<00:00,  2.33s/it]\n",
            "Validating: 100%|██████████| 10/10 [00:19<00:00,  1.97s/it]\n"
          ]
        },
        {
          "output_type": "stream",
          "name": "stdout",
          "text": [
            "Train Loss: 0.1838 | Val Loss: 1.3567 | Val Accuracy: 0.5900\n",
            "\n",
            "--- Epoch 16/20 ---\n"
          ]
        },
        {
          "output_type": "stream",
          "name": "stderr",
          "text": [
            "Training: 100%|██████████| 44/44 [01:42<00:00,  2.33s/it]\n",
            "Validating: 100%|██████████| 10/10 [00:19<00:00,  1.98s/it]\n"
          ]
        },
        {
          "output_type": "stream",
          "name": "stdout",
          "text": [
            "Train Loss: 0.1665 | Val Loss: 1.2590 | Val Accuracy: 0.6600\n",
            "\n",
            "--- Epoch 17/20 ---\n"
          ]
        },
        {
          "output_type": "stream",
          "name": "stderr",
          "text": [
            "Training: 100%|██████████| 44/44 [01:40<00:00,  2.29s/it]\n",
            "Validating: 100%|██████████| 10/10 [00:19<00:00,  1.96s/it]\n"
          ]
        },
        {
          "output_type": "stream",
          "name": "stdout",
          "text": [
            "Train Loss: 0.1205 | Val Loss: 1.0907 | Val Accuracy: 0.6533\n",
            "\n",
            "--- Epoch 18/20 ---\n"
          ]
        },
        {
          "output_type": "stream",
          "name": "stderr",
          "text": [
            "Training: 100%|██████████| 44/44 [01:40<00:00,  2.29s/it]\n",
            "Validating: 100%|██████████| 10/10 [00:19<00:00,  1.99s/it]\n"
          ]
        },
        {
          "output_type": "stream",
          "name": "stdout",
          "text": [
            "Train Loss: 0.1025 | Val Loss: 1.4623 | Val Accuracy: 0.6367\n",
            "\n",
            "--- Epoch 19/20 ---\n"
          ]
        },
        {
          "output_type": "stream",
          "name": "stderr",
          "text": [
            "Training: 100%|██████████| 44/44 [01:42<00:00,  2.33s/it]\n",
            "Validating: 100%|██████████| 10/10 [00:19<00:00,  1.99s/it]\n"
          ]
        },
        {
          "output_type": "stream",
          "name": "stdout",
          "text": [
            "Train Loss: 0.1152 | Val Loss: 1.0179 | Val Accuracy: 0.6700\n",
            "\n",
            "--- Epoch 20/20 ---\n"
          ]
        },
        {
          "output_type": "stream",
          "name": "stderr",
          "text": [
            "Training: 100%|██████████| 44/44 [01:41<00:00,  2.31s/it]\n",
            "Validating: 100%|██████████| 10/10 [00:19<00:00,  1.98s/it]"
          ]
        },
        {
          "output_type": "stream",
          "name": "stdout",
          "text": [
            "Train Loss: 0.1337 | Val Loss: 1.2141 | Val Accuracy: 0.6567\n",
            "\n",
            "✅ Training of Cdiag complete!\n"
          ]
        },
        {
          "output_type": "stream",
          "name": "stderr",
          "text": [
            "\n"
          ]
        }
      ]
    }
  ]
}