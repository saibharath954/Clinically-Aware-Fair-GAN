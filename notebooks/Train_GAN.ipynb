{
  "cells": [
    {
      "cell_type": "code",
      "execution_count": 1,
      "metadata": {
        "colab": {
          "base_uri": "https://localhost:8080/"
        },
        "id": "YrhYk2bxB_Yx",
        "outputId": "46e71ceb-ba8f-46f3-b542-2f837174c7a2"
      },
      "outputs": [
        {
          "output_type": "stream",
          "name": "stdout",
          "text": [
            "Mounted at /content/drive\n"
          ]
        }
      ],
      "source": [
        "from google.colab import drive\n",
        "drive.mount('/content/drive')"
      ]
    },
    {
      "cell_type": "code",
      "execution_count": null,
      "metadata": {
        "colab": {
          "base_uri": "https://localhost:8080/"
        },
        "id": "xaXxPXf_CZ0A",
        "outputId": "9b23d711-d0a6-4c99-c2fb-cda219d74e87"
      },
      "outputs": [
        {
          "output_type": "stream",
          "name": "stdout",
          "text": [
            "/content/drive/MyDrive/CAF-GAN\n",
            "✅ Workspace ready and images unzipped.\n"
          ]
        }
      ],
      "source": [
        "import os\n",
        "\n",
        "# Navigate to your project directory in Google Drive\n",
        "%cd /content/drive/MyDrive/CAF-GAN/\n",
        "\n",
        "# Unzip the image files (this might take a few minutes)\n",
        "# The -q makes the output quiet, -n prevents unzipping if already done\n",
        "!unzip -q -n mimic-cxr-jpg-2.0.0.zip\n",
        "\n",
        "print(\"✅ Workspace ready and images unzipped.\")"
      ]
    },
    {
      "cell_type": "code",
      "execution_count": 2,
      "metadata": {
        "id": "d8VZ0P_1C4Kq",
        "colab": {
          "base_uri": "https://localhost:8080/"
        },
        "outputId": "383b0c9f-e172-4a5e-d833-b08b28e3b1cd"
      },
      "outputs": [
        {
          "output_type": "stream",
          "name": "stdout",
          "text": [
            "\u001b[?25l   \u001b[90m━━━━━━━━━━━━━━━━━━━━━━━━━━━━━━━━━━━━━━━━\u001b[0m \u001b[32m0.0/154.8 kB\u001b[0m \u001b[31m?\u001b[0m eta \u001b[36m-:--:--\u001b[0m\r\u001b[2K   \u001b[90m━━━━━━━━━━━━━━━━━━━━━━━━━━━━━━━━━━━━━━━━\u001b[0m \u001b[32m154.8/154.8 kB\u001b[0m \u001b[31m11.3 MB/s\u001b[0m eta \u001b[36m0:00:00\u001b[0m\n",
            "\u001b[?25h"
          ]
        }
      ],
      "source": [
        "!pip install pyyaml pandas scikit-learn albumentations segmentation-models-pytorch -q"
      ]
    },
    {
      "cell_type": "code",
      "execution_count": 3,
      "metadata": {
        "id": "5wrX8hXcUaAo"
      },
      "outputs": [],
      "source": [
        "import torch\n",
        "import torch.nn as nn\n",
        "\n",
        "class Generator(nn.Module):\n",
        "    \"\"\"\n",
        "    CAF-GAN Generator Network (DCGAN architecture).\n",
        "    Takes a latent vector z and outputs a 256x256 grayscale image.\n",
        "    Output is normalized between -1 and 1 using Tanh.\n",
        "    \"\"\"\n",
        "    def __init__(self, latent_dim, channels=1):\n",
        "        super(Generator, self).__init__()\n",
        "        self.latent_dim = latent_dim\n",
        "\n",
        "        self.main = nn.Sequential(\n",
        "            # Input: latent_dim x 1 x 1\n",
        "            nn.ConvTranspose2d(latent_dim, 1024, 4, 1, 0, bias=False),\n",
        "            nn.BatchNorm2d(1024),\n",
        "            nn.ReLU(True),\n",
        "            # State: 1024 x 4 x 4\n",
        "            nn.ConvTranspose2d(1024, 512, 4, 2, 1, bias=False),\n",
        "            nn.BatchNorm2d(512),\n",
        "            nn.ReLU(True),\n",
        "            # State: 512 x 8 x 8\n",
        "            nn.ConvTranspose2d(512, 256, 4, 2, 1, bias=False),\n",
        "            nn.BatchNorm2d(256),\n",
        "            nn.ReLU(True),\n",
        "            # State: 256 x 16 x 16\n",
        "            nn.ConvTranspose2d(256, 128, 4, 2, 1, bias=False),\n",
        "            nn.BatchNorm2d(128),\n",
        "            nn.ReLU(True),\n",
        "            # State: 128 x 32 x 32\n",
        "            nn.ConvTranspose2d(128, 64, 4, 2, 1, bias=False),\n",
        "            nn.BatchNorm2d(64),\n",
        "            nn.ReLU(True),\n",
        "            # State: 64 x 64 x 64\n",
        "            nn.ConvTranspose2d(64, 32, 4, 2, 1, bias=False),\n",
        "            nn.BatchNorm2d(32),\n",
        "            nn.ReLU(True),\n",
        "            # State: 32 x 128 x 128\n",
        "            nn.ConvTranspose2d(32, channels, 4, 2, 1, bias=False),\n",
        "            nn.Tanh()\n",
        "            # Output: channels x 256 x 256\n",
        "        )\n",
        "\n",
        "    def forward(self, input):\n",
        "        return self.main(input)"
      ]
    },
    {
      "cell_type": "code",
      "execution_count": 4,
      "metadata": {
        "id": "skkJRucPUc3c"
      },
      "outputs": [],
      "source": [
        "import torch\n",
        "import torch.nn as nn\n",
        "\n",
        "class Discriminator(nn.Module):\n",
        "    \"\"\"\n",
        "    CAF-GAN Discriminator Network (Critic for WGAN-GP).\n",
        "    Takes a 256x256 grayscale image and outputs a single scalar score.\n",
        "    Uses InstanceNorm instead of BatchNorm for stability with WGAN-GP.\n",
        "    No final activation function.\n",
        "    \"\"\"\n",
        "    def __init__(self, channels=1):\n",
        "        super(Discriminator, self).__init__()\n",
        "\n",
        "        self.main = nn.Sequential(\n",
        "            # Input: channels x 256 x 256\n",
        "            nn.Conv2d(channels, 32, 4, 2, 1, bias=False),\n",
        "            nn.LeakyReLU(0.2, inplace=True),\n",
        "            # State: 32 x 128 x 128\n",
        "            nn.Conv2d(32, 64, 4, 2, 1, bias=False),\n",
        "            nn.InstanceNorm2d(64, affine=True),\n",
        "            nn.LeakyReLU(0.2, inplace=True),\n",
        "            # State: 64 x 64 x 64\n",
        "            nn.Conv2d(64, 128, 4, 2, 1, bias=False),\n",
        "            nn.InstanceNorm2d(128, affine=True),\n",
        "            nn.LeakyReLU(0.2, inplace=True),\n",
        "            # State: 128 x 32 x 32\n",
        "            nn.Conv2d(128, 256, 4, 2, 1, bias=False),\n",
        "            nn.InstanceNorm2d(256, affine=True),\n",
        "            nn.LeakyReLU(0.2, inplace=True),\n",
        "            # State: 256 x 16 x 16\n",
        "            nn.Conv2d(256, 512, 4, 2, 1, bias=False),\n",
        "            nn.InstanceNorm2d(512, affine=True),\n",
        "            nn.LeakyReLU(0.2, inplace=True),\n",
        "            # State: 512 x 8 x 8\n",
        "            nn.Conv2d(512, 1024, 4, 2, 1, bias=False),\n",
        "            nn.InstanceNorm2d(1024, affine=True),\n",
        "            nn.LeakyReLU(0.2, inplace=True),\n",
        "            # State: 1024 x 4 x 4\n",
        "            nn.Conv2d(1024, 1, 4, 1, 0, bias=False)\n",
        "            # Output: 1 x 1 x 1\n",
        "        )\n",
        "\n",
        "    def forward(self, input):\n",
        "        return self.main(input)"
      ]
    },
    {
      "cell_type": "code",
      "execution_count": 5,
      "metadata": {
        "id": "rDVWP3_8C-gw"
      },
      "outputs": [],
      "source": [
        "import os\n",
        "import torch\n",
        "import numpy as np\n",
        "import pandas as pd\n",
        "from torch.utils.data import Dataset\n",
        "from PIL import Image\n",
        "\n",
        "# This single dataset file will serve both critic training scripts.\n",
        "\n",
        "class MIMICCXRClassifierDataset(Dataset):\n",
        "    \"\"\"\n",
        "    Dataset for the Cdiag (classification) task.\n",
        "    - Loads a JPG image.\n",
        "    - Converts it to RGB (as required by ResNet).\n",
        "    - Returns the image and its corresponding Pneumonia label.\n",
        "    \"\"\"\n",
        "    def __init__(self, df, image_dir, transform=None):\n",
        "        self.df = df\n",
        "        self.image_dir = image_dir\n",
        "        self.transform = transform\n",
        "\n",
        "    def __len__(self):\n",
        "        return len(self.df)\n",
        "\n",
        "    def __getitem__(self, idx):\n",
        "        row = self.df.iloc[idx]\n",
        "        subject_id = str(row['subject_id'])\n",
        "        study_id = str(row['study_id'])\n",
        "        dicom_id = row['dicom_id']\n",
        "\n",
        "        # Construct the path to the JPG image\n",
        "        image_path = os.path.join(\n",
        "            self.image_dir, f'p{subject_id[:2]}', f'p{subject_id}', f's{study_id}', f'{dicom_id}.jpg'\n",
        "        )\n",
        "\n",
        "        # Load image and convert to a numpy array in RGB format\n",
        "        image = Image.open(image_path).convert(\"RGB\")\n",
        "        image = np.array(image)\n",
        "\n",
        "        # Apply augmentations\n",
        "        if self.transform:\n",
        "            augmented = self.transform(image=image)\n",
        "            image = augmented['image']\n",
        "\n",
        "        # Get the label\n",
        "        label = torch.tensor(row['Pneumonia'], dtype=torch.float32)\n",
        "\n",
        "        return image, label.unsqueeze(0)\n",
        "\n",
        "\n",
        "class MIMICXRSegmentationDataset(Dataset):\n",
        "    \"\"\"\n",
        "    Dataset for the Cseg (segmentation) task.\n",
        "    - Loads a JPG image (as 3-channel RGB). <--- UPDATED\n",
        "    - Loads its corresponding pre-generated PNG mask.\n",
        "    - Returns both the image and the mask.\n",
        "    \"\"\"\n",
        "    def __init__(self, df, image_dir, mask_dir, transform=None):\n",
        "        self.df = df\n",
        "        self.image_dir = image_dir\n",
        "        self.mask_dir = mask_dir\n",
        "        self.transform = transform\n",
        "\n",
        "    def __len__(self):\n",
        "        return len(self.df)\n",
        "\n",
        "    def __getitem__(self, idx):\n",
        "        row = self.df.iloc[idx]\n",
        "        subject_id = str(row['subject_id'])\n",
        "        study_id = str(row['study_id'])\n",
        "        dicom_id = row['dicom_id']\n",
        "\n",
        "        image_path = os.path.join(\n",
        "            self.image_dir, f'p{subject_id[:2]}', f'p{subject_id}', f's{study_id}', f'{dicom_id}.jpg'\n",
        "        )\n",
        "        mask_path = os.path.join(self.mask_dir, f\"{dicom_id}.png\")\n",
        "\n",
        "        # --- KEY CHANGE ---\n",
        "        # Load image and convert to RGB to match the model's expected input channels.\n",
        "        image = np.array(Image.open(image_path).convert(\"RGB\"), dtype=np.float32)\n",
        "\n",
        "        # Load mask as grayscale\n",
        "        mask = np.array(Image.open(mask_path).convert(\"L\"), dtype=np.float32)\n",
        "\n",
        "        # RESIZE THE IMAGE to match the mask size (256×256) BEFORE augmentation\n",
        "        image = np.array(Image.fromarray(image.astype(np.uint8)).resize((256, 256), Image.BILINEAR))\n",
        "\n",
        "        # Normalize mask values from [0, 255] to [0.0, 1.0]\n",
        "        mask[mask == 255.0] = 1.0\n",
        "\n",
        "        # Apply augmentations (Albumentations will now see matching input sizes from the Resize transform)\n",
        "        if self.transform:\n",
        "            augmented = self.transform(image=image, mask=mask)\n",
        "            image = augmented['image']\n",
        "            mask = augmented['mask']\n",
        "\n",
        "        # Add a channel dimension for the mask for consistency\n",
        "        return image, mask.unsqueeze(0)\n",
        "\n",
        "class MIMICCXR_GANDataset(Dataset):\n",
        "    \"\"\"\n",
        "    Dataset for the main GAN training.\n",
        "    - Loads a JPG image (as grayscale).\n",
        "    - Returns the image, its Pneumonia label, and the one-hot encoded race group.\n",
        "    \"\"\"\n",
        "    def __init__(self, df, image_dir, transform=None):\n",
        "        self.df = df\n",
        "        self.image_dir = image_dir\n",
        "        self.transform = transform\n",
        "\n",
        "        # Pre-process sensitive attributes\n",
        "        self.df['race_group'] = self.df['race_group'].astype('category')\n",
        "        self.race_categories = self.df['race_group'].cat.categories\n",
        "        self.one_hot_races = pd.get_dummies(self.df['race_group'])\n",
        "\n",
        "    def __len__(self):\n",
        "        return len(self.df)\n",
        "\n",
        "    def __getitem__(self, idx):\n",
        "        row = self.df.iloc[idx]\n",
        "        subject_id = str(row['subject_id'])\n",
        "        study_id = str(row['study_id'])\n",
        "        dicom_id = row['dicom_id']\n",
        "\n",
        "        image_path = os.path.join(\n",
        "            self.image_dir, f'p{subject_id[:2]}', f'p{subject_id}', f's{study_id}', f'{dicom_id}.jpg'\n",
        "        )\n",
        "\n",
        "        # Load the image and convert to \"RGB\"\n",
        "        image = Image.open(image_path).convert(\"RGB\") # <-- CHANGE \"L\" to \"RGB\"\n",
        "        image = np.array(image, dtype=np.float32)\n",
        "\n",
        "        if self.transform:\n",
        "            augmented = self.transform(image=image)\n",
        "            image = augmented['image']\n",
        "\n",
        "        label = torch.tensor(row['Pneumonia'], dtype=torch.float32)\n",
        "        race = torch.tensor(self.one_hot_races.iloc[idx].values, dtype=torch.float32)\n",
        "\n",
        "        return image, label, race"
      ]
    },
    {
      "cell_type": "code",
      "execution_count": 6,
      "metadata": {
        "id": "87Yg_DB4DIR3"
      },
      "outputs": [],
      "source": [
        "CONFIG = {\n",
        "    # --- Data Paths ---\n",
        "    \"IMAGE_DIR\": \"/content/drive/MyDrive/CAF-GAN/mimic-cxr-jpg-2.0.0/files/\",\n",
        "    \"TRAIN_CSV_PATH\": \"/content/drive/MyDrive/CAF-GAN/data/splits/train.csv\",\n",
        "    \"CDIAG_PATH\": \"/content/drive/MyDrive/CAF-GAN/outputs/cdiag/best_cdiag_colab.pth\",\n",
        "    \"CSEG_PATH\": \"/content/drive/MyDrive/CAF-GAN/outputs/cseg/best_cseg_colab.pth\",\n",
        "\n",
        "    # --- Output Paths ---\n",
        "    \"OUTPUT_DIR\": \"/content/drive/MyDrive/CAF-GAN/outputs/gan/\",\n",
        "    \"IMAGE_OUTPUT_DIR\": \"/content/drive/MyDrive/CAF-GAN/outputs/gan/generated_images/\",\n",
        "\n",
        "    # --- Model & Training Hyperparameters ---\n",
        "    \"IMG_SIZE\": 256,\n",
        "    \"CHANNELS\": 3,\n",
        "    \"LATENT_DIM\": 128,\n",
        "    \"BATCH_SIZE\": 16,  # GANs are memory intensive\n",
        "    \"EPOCHS\": 200,     # GANs need many epochs to converge\n",
        "   \"G_LR\": 0.0001,       # ⬅️ Optimized for your critic strengths\n",
        "    \"D_LR\": 0.0001,       # ⬅️ Balanced with generator\n",
        "    \"B1\": 0.5,\n",
        "    \"B2\": 0.999,\n",
        "    \"N_CRITIC\": 5,        # ⬅️ Standard WGAN-GP value\n",
        "\n",
        "    # --- Loss Weights (CALIBRATED for your critic performance) ---\n",
        "    \"LAMBDA_GP\": 10,\n",
        "    \"LAMBDA_FAIR\": 0.15,   # ⬅️ Increased slightly (Cdiag: 66% accuracy)\n",
        "    \"LAMBDA_CLINIC\": 0.08, # ⬅️ Increased slightly (Cseg: 57.6% Dice)\n",
        "\n",
        "    # --- Adaptive Training Parameters ---\n",
        "    \"USE_GRADIENT_CLIPPING\": True,\n",
        "    \"MAX_GRAD_NORM\": 1.0,\n",
        "    \"LR_DECAY_FACTOR\": 0.8,\n",
        "    \"LR_DECAY_PATIENCE\": 10,\n",
        "\n",
        "    # --- System & Logging ---\n",
        "    \"DEVICE\": \"cuda\" if torch.cuda.is_available() else \"cpu\",\n",
        "    \"NUM_WORKERS\": 2,\n",
        "    \"LOG_FREQ\": 50,\n",
        "    \"SAVE_IMG_FREQ\": 1,\n",
        "    \"SAVE_MODEL_FREQ\": 10\n",
        "}\n"
      ]
    },
    {
      "cell_type": "code",
      "execution_count": 7,
      "metadata": {
        "colab": {
          "base_uri": "https://localhost:8080/",
          "height": 1000,
          "referenced_widgets": [
            "ffce0cf976bd4e02b76bea00c84077dd",
            "17dc354ff8c243daaf7af08d1abc74b0",
            "cee1218dbb1c4a13a1d3ea5967199fe8",
            "3f4d8a03e5a54d84946dc2434ce5de7f",
            "fa28826a3f5b4a3697518de9ee0d1a5e",
            "ea26bb0605fb43cba09d46d0e5e1af7e",
            "29adf127c3444564a7ed3292e08837dd",
            "f2161ad7f1754f90af7da67ac7bb8ce2",
            "9e0f3b0bae19473584da5f6b1b9e52ea",
            "54165be710074517ab7cda17e337df4c",
            "b3245ed90df8440182c8b51cb112f826",
            "57a34adb01d545e8ab0053e3c465beed",
            "87bc348364c04479a77fd6dcf63f3aab",
            "541862720a1441a9ab99729a91f0784a",
            "0e138ba8de3d4df297b2edc1f8ee882c",
            "2f703c1526f44260bccb405c194b25dc",
            "bf1de2e33f8e426b884cbda77800f449",
            "352e3588e59044d29b1d0472e25c2b41",
            "ceb7126a44924b0a87115f8b27251909",
            "a29227dd6b5e4c309ef0abcfc752951b",
            "a1458d5486634726811734096e4bd57f",
            "ae0da6e2858f410da111ced2ddef1d4c"
          ]
        },
        "id": "3LRfvu61DWoV",
        "outputId": "51e669a2-ed03-475c-fdce-1ae711bdf2f6"
      },
      "outputs": [
        {
          "output_type": "stream",
          "name": "stdout",
          "text": [
            "Using device: cuda\n"
          ]
        },
        {
          "output_type": "stream",
          "name": "stderr",
          "text": [
            "/usr/local/lib/python3.12/dist-packages/huggingface_hub/utils/_auth.py:94: UserWarning: \n",
            "The secret `HF_TOKEN` does not exist in your Colab secrets.\n",
            "To authenticate with the Hugging Face Hub, create a token in your settings tab (https://huggingface.co/settings/tokens), set it as secret in your Google Colab and restart your session.\n",
            "You will be able to reuse this secret in all of your notebooks.\n",
            "Please note that authentication is recommended but still optional to access public models or datasets.\n",
            "  warnings.warn(\n"
          ]
        },
        {
          "output_type": "display_data",
          "data": {
            "text/plain": [
              "config.json:   0%|          | 0.00/156 [00:00<?, ?B/s]"
            ],
            "application/vnd.jupyter.widget-view+json": {
              "version_major": 2,
              "version_minor": 0,
              "model_id": "ffce0cf976bd4e02b76bea00c84077dd"
            }
          },
          "metadata": {}
        },
        {
          "output_type": "display_data",
          "data": {
            "text/plain": [
              "model.safetensors:   0%|          | 0.00/87.3M [00:00<?, ?B/s]"
            ],
            "application/vnd.jupyter.widget-view+json": {
              "version_major": 2,
              "version_minor": 0,
              "model_id": "57a34adb01d545e8ab0053e3c465beed"
            }
          },
          "metadata": {}
        },
        {
          "output_type": "stream",
          "name": "stdout",
          "text": [
            "✅ Checkpoint loaded successfully from epoch 179\n",
            "Resuming from epoch 179\n",
            "✅ Starting from epoch 179\n",
            "Starting Training Loop...\n"
          ]
        },
        {
          "output_type": "stream",
          "name": "stderr",
          "text": [
            "\rEpoch 180/200:   0%|          | 0/88 [00:00<?, ?it/s]"
          ]
        },
        {
          "output_type": "stream",
          "name": "stdout",
          "text": [
            "[180/200][0/88] Loss_D: -171.4308 Loss_G: 474.8717 GP: 7.1852 W_dist: 243.2830\n"
          ]
        },
        {
          "output_type": "stream",
          "name": "stderr",
          "text": [
            "\rEpoch 180/200:   1%|          | 1/88 [00:22<32:59, 22.75s/it]"
          ]
        },
        {
          "output_type": "stream",
          "name": "stdout",
          "text": [
            "✅ Checkpoint saved successfully for epoch 179\n"
          ]
        },
        {
          "output_type": "stream",
          "name": "stderr",
          "text": [
            "Epoch 180/200:  24%|██▍       | 21/88 [03:00<09:41,  8.68s/it]"
          ]
        },
        {
          "output_type": "stream",
          "name": "stdout",
          "text": [
            "✅ Checkpoint saved successfully for epoch 179\n"
          ]
        },
        {
          "output_type": "stream",
          "name": "stderr",
          "text": [
            "Epoch 180/200:  47%|████▋     | 41/88 [05:37<07:02,  8.99s/it]"
          ]
        },
        {
          "output_type": "stream",
          "name": "stdout",
          "text": [
            "✅ Checkpoint saved successfully for epoch 179\n"
          ]
        },
        {
          "output_type": "stream",
          "name": "stderr",
          "text": [
            "Epoch 180/200:  58%|█████▊    | 51/88 [07:02<05:36,  9.11s/it]"
          ]
        },
        {
          "output_type": "stream",
          "name": "stdout",
          "text": [
            "[180/200][50/88] Loss_D: -142.6861 Loss_G: 474.2354 GP: 7.9765 W_dist: 235.1087\n"
          ]
        },
        {
          "output_type": "stream",
          "name": "stderr",
          "text": [
            "Epoch 180/200:  69%|██████▉   | 61/88 [08:19<04:13,  9.40s/it]"
          ]
        },
        {
          "output_type": "stream",
          "name": "stdout",
          "text": [
            "✅ Checkpoint saved successfully for epoch 179\n"
          ]
        },
        {
          "output_type": "stream",
          "name": "stderr",
          "text": [
            "Epoch 180/200:  92%|█████████▏| 81/88 [10:55<01:05,  9.35s/it]"
          ]
        },
        {
          "output_type": "stream",
          "name": "stdout",
          "text": [
            "✅ Checkpoint saved successfully for epoch 179\n"
          ]
        },
        {
          "output_type": "stream",
          "name": "stderr",
          "text": [
            "Epoch 180/200: 100%|██████████| 88/88 [11:43<00:00,  8.00s/it]\n"
          ]
        },
        {
          "output_type": "stream",
          "name": "stdout",
          "text": [
            "\n",
            "📊 Epoch 180 Summary:\n",
            "   Avg G Loss: 478.9924\n",
            "   Avg D Loss: -147.2567\n",
            "   Avg Wasserstein: 225.9839\n",
            "🖼️  Saved generated images for epoch 180\n",
            "💾 Saved model weights for epoch 180\n",
            "✅ Checkpoint saved successfully for epoch 179\n",
            "💾 Epoch 180 completed. Checkpoint saved.\n"
          ]
        },
        {
          "output_type": "stream",
          "name": "stderr",
          "text": [
            "\rEpoch 181/200:   0%|          | 0/88 [00:00<?, ?it/s]"
          ]
        },
        {
          "output_type": "stream",
          "name": "stdout",
          "text": [
            "[181/200][0/88] Loss_D: -125.1906 Loss_G: 491.2031 GP: 7.3790 W_dist: 198.9803\n"
          ]
        },
        {
          "output_type": "stream",
          "name": "stderr",
          "text": [
            "\rEpoch 181/200:   1%|          | 1/88 [00:06<09:40,  6.67s/it]"
          ]
        },
        {
          "output_type": "stream",
          "name": "stdout",
          "text": [
            "✅ Checkpoint saved successfully for epoch 180\n"
          ]
        },
        {
          "output_type": "stream",
          "name": "stderr",
          "text": [
            "Epoch 181/200:  24%|██▍       | 21/88 [00:44<02:57,  2.65s/it]"
          ]
        },
        {
          "output_type": "stream",
          "name": "stdout",
          "text": [
            "✅ Checkpoint saved successfully for epoch 180\n"
          ]
        },
        {
          "output_type": "stream",
          "name": "stderr",
          "text": [
            "Epoch 181/200:  47%|████▋     | 41/88 [01:20<01:57,  2.50s/it]"
          ]
        },
        {
          "output_type": "stream",
          "name": "stdout",
          "text": [
            "✅ Checkpoint saved successfully for epoch 180\n"
          ]
        },
        {
          "output_type": "stream",
          "name": "stderr",
          "text": [
            "Epoch 181/200:  58%|█████▊    | 51/88 [01:41<01:55,  3.12s/it]"
          ]
        },
        {
          "output_type": "stream",
          "name": "stdout",
          "text": [
            "[181/200][50/88] Loss_D: -148.8904 Loss_G: 477.2690 GP: 8.3979 W_dist: 210.0389\n"
          ]
        },
        {
          "output_type": "stream",
          "name": "stderr",
          "text": [
            "Epoch 181/200:  69%|██████▉   | 61/88 [01:57<01:02,  2.32s/it]"
          ]
        },
        {
          "output_type": "stream",
          "name": "stdout",
          "text": [
            "✅ Checkpoint saved successfully for epoch 180\n"
          ]
        },
        {
          "output_type": "stream",
          "name": "stderr",
          "text": [
            "Epoch 181/200:  92%|█████████▏| 81/88 [02:31<00:17,  2.53s/it]"
          ]
        },
        {
          "output_type": "stream",
          "name": "stdout",
          "text": [
            "✅ Checkpoint saved successfully for epoch 180\n"
          ]
        },
        {
          "output_type": "stream",
          "name": "stderr",
          "text": [
            "Epoch 181/200: 100%|██████████| 88/88 [02:38<00:00,  1.81s/it]\n"
          ]
        },
        {
          "output_type": "stream",
          "name": "stdout",
          "text": [
            "\n",
            "📊 Epoch 181 Summary:\n",
            "   Avg G Loss: 474.1788\n",
            "   Avg D Loss: -157.0204\n",
            "   Avg Wasserstein: 227.4945\n",
            "🖼️  Saved generated images for epoch 181\n",
            "✅ Checkpoint saved successfully for epoch 180\n",
            "💾 Epoch 181 completed. Checkpoint saved.\n"
          ]
        },
        {
          "output_type": "stream",
          "name": "stderr",
          "text": [
            "\rEpoch 182/200:   0%|          | 0/88 [00:00<?, ?it/s]"
          ]
        },
        {
          "output_type": "stream",
          "name": "stdout",
          "text": [
            "[182/200][0/88] Loss_D: -222.3769 Loss_G: 477.2451 GP: 3.8328 W_dist: 260.7048\n"
          ]
        },
        {
          "output_type": "stream",
          "name": "stderr",
          "text": [
            "\rEpoch 182/200:   1%|          | 1/88 [00:05<07:50,  5.41s/it]"
          ]
        },
        {
          "output_type": "stream",
          "name": "stdout",
          "text": [
            "✅ Checkpoint saved successfully for epoch 181\n"
          ]
        },
        {
          "output_type": "stream",
          "name": "stderr",
          "text": [
            "Epoch 182/200:  24%|██▍       | 21/88 [00:42<02:56,  2.64s/it]"
          ]
        },
        {
          "output_type": "stream",
          "name": "stdout",
          "text": [
            "✅ Checkpoint saved successfully for epoch 181\n"
          ]
        },
        {
          "output_type": "stream",
          "name": "stderr",
          "text": [
            "Epoch 182/200:  47%|████▋     | 41/88 [01:17<01:45,  2.25s/it]"
          ]
        },
        {
          "output_type": "stream",
          "name": "stdout",
          "text": [
            "✅ Checkpoint saved successfully for epoch 181\n"
          ]
        },
        {
          "output_type": "stream",
          "name": "stderr",
          "text": [
            "Epoch 182/200:  58%|█████▊    | 51/88 [01:36<01:29,  2.41s/it]"
          ]
        },
        {
          "output_type": "stream",
          "name": "stdout",
          "text": [
            "[182/200][50/88] Loss_D: -153.5938 Loss_G: 482.6190 GP: 7.5230 W_dist: 215.3286\n"
          ]
        },
        {
          "output_type": "stream",
          "name": "stderr",
          "text": [
            "Epoch 182/200:  69%|██████▉   | 61/88 [01:54<01:00,  2.24s/it]"
          ]
        },
        {
          "output_type": "stream",
          "name": "stdout",
          "text": [
            "✅ Checkpoint saved successfully for epoch 181\n"
          ]
        },
        {
          "output_type": "stream",
          "name": "stderr",
          "text": [
            "Epoch 182/200:  92%|█████████▏| 81/88 [02:30<00:16,  2.30s/it]"
          ]
        },
        {
          "output_type": "stream",
          "name": "stdout",
          "text": [
            "✅ Checkpoint saved successfully for epoch 181\n"
          ]
        },
        {
          "output_type": "stream",
          "name": "stderr",
          "text": [
            "Epoch 182/200: 100%|██████████| 88/88 [02:37<00:00,  1.79s/it]\n"
          ]
        },
        {
          "output_type": "stream",
          "name": "stdout",
          "text": [
            "\n",
            "📊 Epoch 182 Summary:\n",
            "   Avg G Loss: 479.7925\n",
            "   Avg D Loss: -162.7237\n",
            "   Avg Wasserstein: 227.2374\n",
            "🖼️  Saved generated images for epoch 182\n",
            "✅ Checkpoint saved successfully for epoch 181\n",
            "💾 Epoch 182 completed. Checkpoint saved.\n"
          ]
        },
        {
          "output_type": "stream",
          "name": "stderr",
          "text": [
            "\rEpoch 183/200:   0%|          | 0/88 [00:00<?, ?it/s]"
          ]
        },
        {
          "output_type": "stream",
          "name": "stdout",
          "text": [
            "[183/200][0/88] Loss_D: -118.7720 Loss_G: 484.4948 GP: 13.3427 W_dist: 252.1994\n"
          ]
        },
        {
          "output_type": "stream",
          "name": "stderr",
          "text": [
            "\rEpoch 183/200:   1%|          | 1/88 [00:06<09:53,  6.83s/it]"
          ]
        },
        {
          "output_type": "stream",
          "name": "stdout",
          "text": [
            "✅ Checkpoint saved successfully for epoch 182\n"
          ]
        },
        {
          "output_type": "stream",
          "name": "stderr",
          "text": [
            "Epoch 183/200:  24%|██▍       | 21/88 [00:43<03:15,  2.92s/it]"
          ]
        },
        {
          "output_type": "stream",
          "name": "stdout",
          "text": [
            "✅ Checkpoint saved successfully for epoch 182\n"
          ]
        },
        {
          "output_type": "stream",
          "name": "stderr",
          "text": [
            "Epoch 183/200:  47%|████▋     | 41/88 [01:20<02:07,  2.72s/it]"
          ]
        },
        {
          "output_type": "stream",
          "name": "stdout",
          "text": [
            "✅ Checkpoint saved successfully for epoch 182\n"
          ]
        },
        {
          "output_type": "stream",
          "name": "stderr",
          "text": [
            "Epoch 183/200:  58%|█████▊    | 51/88 [01:38<02:07,  3.44s/it]"
          ]
        },
        {
          "output_type": "stream",
          "name": "stdout",
          "text": [
            "[183/200][50/88] Loss_D: -151.8575 Loss_G: 473.8981 GP: 6.7849 W_dist: 224.7384\n"
          ]
        },
        {
          "output_type": "stream",
          "name": "stderr",
          "text": [
            "Epoch 183/200:  69%|██████▉   | 61/88 [01:56<01:01,  2.28s/it]"
          ]
        },
        {
          "output_type": "stream",
          "name": "stdout",
          "text": [
            "✅ Checkpoint saved successfully for epoch 182\n"
          ]
        },
        {
          "output_type": "stream",
          "name": "stderr",
          "text": [
            "Epoch 183/200:  92%|█████████▏| 81/88 [02:33<00:18,  2.68s/it]"
          ]
        },
        {
          "output_type": "stream",
          "name": "stdout",
          "text": [
            "✅ Checkpoint saved successfully for epoch 182\n"
          ]
        },
        {
          "output_type": "stream",
          "name": "stderr",
          "text": [
            "Epoch 183/200: 100%|██████████| 88/88 [02:38<00:00,  1.80s/it]\n"
          ]
        },
        {
          "output_type": "stream",
          "name": "stdout",
          "text": [
            "\n",
            "📊 Epoch 183 Summary:\n",
            "   Avg G Loss: 471.7072\n",
            "   Avg D Loss: -155.0500\n",
            "   Avg Wasserstein: 230.9317\n",
            "🖼️  Saved generated images for epoch 183\n",
            "✅ Checkpoint saved successfully for epoch 182\n",
            "💾 Epoch 183 completed. Checkpoint saved.\n"
          ]
        },
        {
          "output_type": "stream",
          "name": "stderr",
          "text": [
            "\rEpoch 184/200:   0%|          | 0/88 [00:00<?, ?it/s]"
          ]
        },
        {
          "output_type": "stream",
          "name": "stdout",
          "text": [
            "[184/200][0/88] Loss_D: -126.2955 Loss_G: 478.5457 GP: 10.5046 W_dist: 231.3416\n"
          ]
        },
        {
          "output_type": "stream",
          "name": "stderr",
          "text": [
            "\rEpoch 184/200:   1%|          | 1/88 [00:12<18:16, 12.60s/it]"
          ]
        },
        {
          "output_type": "stream",
          "name": "stdout",
          "text": [
            "✅ Checkpoint saved successfully for epoch 183\n"
          ]
        },
        {
          "output_type": "stream",
          "name": "stderr",
          "text": [
            "Epoch 184/200:  24%|██▍       | 21/88 [00:48<03:00,  2.70s/it]"
          ]
        },
        {
          "output_type": "stream",
          "name": "stdout",
          "text": [
            "✅ Checkpoint saved successfully for epoch 183\n"
          ]
        },
        {
          "output_type": "stream",
          "name": "stderr",
          "text": [
            "Epoch 184/200:  47%|████▋     | 41/88 [01:23<01:46,  2.26s/it]"
          ]
        },
        {
          "output_type": "stream",
          "name": "stdout",
          "text": [
            "✅ Checkpoint saved successfully for epoch 183\n"
          ]
        },
        {
          "output_type": "stream",
          "name": "stderr",
          "text": [
            "Epoch 184/200:  58%|█████▊    | 51/88 [01:41<02:11,  3.57s/it]"
          ]
        },
        {
          "output_type": "stream",
          "name": "stdout",
          "text": [
            "[184/200][50/88] Loss_D: -156.7090 Loss_G: 489.9765 GP: 8.1070 W_dist: 223.4107\n"
          ]
        },
        {
          "output_type": "stream",
          "name": "stderr",
          "text": [
            "Epoch 184/200:  69%|██████▉   | 61/88 [01:59<01:10,  2.60s/it]"
          ]
        },
        {
          "output_type": "stream",
          "name": "stdout",
          "text": [
            "✅ Checkpoint saved successfully for epoch 183\n"
          ]
        },
        {
          "output_type": "stream",
          "name": "stderr",
          "text": [
            "Epoch 184/200:  92%|█████████▏| 81/88 [02:33<00:14,  2.04s/it]"
          ]
        },
        {
          "output_type": "stream",
          "name": "stdout",
          "text": [
            "✅ Checkpoint saved successfully for epoch 183\n"
          ]
        },
        {
          "output_type": "stream",
          "name": "stderr",
          "text": [
            "Epoch 184/200: 100%|██████████| 88/88 [02:41<00:00,  1.84s/it]\n"
          ]
        },
        {
          "output_type": "stream",
          "name": "stdout",
          "text": [
            "\n",
            "📊 Epoch 184 Summary:\n",
            "   Avg G Loss: 487.1384\n",
            "   Avg D Loss: -151.9399\n",
            "   Avg Wasserstein: 226.7221\n",
            "🖼️  Saved generated images for epoch 184\n",
            "✅ Checkpoint saved successfully for epoch 183\n",
            "💾 Epoch 184 completed. Checkpoint saved.\n"
          ]
        },
        {
          "output_type": "stream",
          "name": "stderr",
          "text": [
            "\rEpoch 185/200:   0%|          | 0/88 [00:00<?, ?it/s]"
          ]
        },
        {
          "output_type": "stream",
          "name": "stdout",
          "text": [
            "[185/200][0/88] Loss_D: -147.7766 Loss_G: 484.1916 GP: 9.2723 W_dist: 240.4998\n"
          ]
        },
        {
          "output_type": "stream",
          "name": "stderr",
          "text": [
            "\rEpoch 185/200:   1%|          | 1/88 [00:07<10:11,  7.03s/it]"
          ]
        },
        {
          "output_type": "stream",
          "name": "stdout",
          "text": [
            "✅ Checkpoint saved successfully for epoch 184\n"
          ]
        },
        {
          "output_type": "stream",
          "name": "stderr",
          "text": [
            "Epoch 185/200:  24%|██▍       | 21/88 [00:38<02:50,  2.54s/it]"
          ]
        },
        {
          "output_type": "stream",
          "name": "stdout",
          "text": [
            "✅ Checkpoint saved successfully for epoch 184\n"
          ]
        },
        {
          "output_type": "stream",
          "name": "stderr",
          "text": [
            "Epoch 185/200:  47%|████▋     | 41/88 [01:09<01:44,  2.22s/it]"
          ]
        },
        {
          "output_type": "stream",
          "name": "stdout",
          "text": [
            "✅ Checkpoint saved successfully for epoch 184\n"
          ]
        },
        {
          "output_type": "stream",
          "name": "stderr",
          "text": [
            "Epoch 185/200:  58%|█████▊    | 51/88 [01:19<00:44,  1.20s/it]"
          ]
        },
        {
          "output_type": "stream",
          "name": "stdout",
          "text": [
            "[185/200][50/88] Loss_D: -141.4761 Loss_G: 486.9664 GP: 7.8230 W_dist: 247.7185\n"
          ]
        },
        {
          "output_type": "stream",
          "name": "stderr",
          "text": [
            "Epoch 185/200:  69%|██████▉   | 61/88 [01:41<01:08,  2.54s/it]"
          ]
        },
        {
          "output_type": "stream",
          "name": "stdout",
          "text": [
            "✅ Checkpoint saved successfully for epoch 184\n"
          ]
        },
        {
          "output_type": "stream",
          "name": "stderr",
          "text": [
            "Epoch 185/200:  92%|█████████▏| 81/88 [02:13<00:16,  2.36s/it]"
          ]
        },
        {
          "output_type": "stream",
          "name": "stdout",
          "text": [
            "✅ Checkpoint saved successfully for epoch 184\n"
          ]
        },
        {
          "output_type": "stream",
          "name": "stderr",
          "text": [
            "Epoch 185/200: 100%|██████████| 88/88 [02:17<00:00,  1.57s/it]\n"
          ]
        },
        {
          "output_type": "stream",
          "name": "stdout",
          "text": [
            "\n",
            "📊 Epoch 185 Summary:\n",
            "   Avg G Loss: 488.4705\n",
            "   Avg D Loss: -147.0326\n",
            "   Avg Wasserstein: 230.7912\n",
            "📉 Learning rate reduced to: 1.677721600000001e-05\n",
            "🖼️  Saved generated images for epoch 185\n",
            "✅ Checkpoint saved successfully for epoch 184\n",
            "💾 Epoch 185 completed. Checkpoint saved.\n"
          ]
        },
        {
          "output_type": "stream",
          "name": "stderr",
          "text": [
            "\rEpoch 186/200:   0%|          | 0/88 [00:00<?, ?it/s]"
          ]
        },
        {
          "output_type": "stream",
          "name": "stdout",
          "text": [
            "[186/200][0/88] Loss_D: -181.7454 Loss_G: 492.0872 GP: 4.9094 W_dist: 230.8396\n"
          ]
        },
        {
          "output_type": "stream",
          "name": "stderr",
          "text": [
            "\rEpoch 186/200:   1%|          | 1/88 [00:05<08:22,  5.77s/it]"
          ]
        },
        {
          "output_type": "stream",
          "name": "stdout",
          "text": [
            "✅ Checkpoint saved successfully for epoch 185\n"
          ]
        },
        {
          "output_type": "stream",
          "name": "stderr",
          "text": [
            "Epoch 186/200:  24%|██▍       | 21/88 [00:35<02:25,  2.17s/it]"
          ]
        },
        {
          "output_type": "stream",
          "name": "stdout",
          "text": [
            "✅ Checkpoint saved successfully for epoch 185\n"
          ]
        },
        {
          "output_type": "stream",
          "name": "stderr",
          "text": [
            "Epoch 186/200:  47%|████▋     | 41/88 [01:04<01:36,  2.05s/it]"
          ]
        },
        {
          "output_type": "stream",
          "name": "stdout",
          "text": [
            "✅ Checkpoint saved successfully for epoch 185\n"
          ]
        },
        {
          "output_type": "stream",
          "name": "stderr",
          "text": [
            "Epoch 186/200:  58%|█████▊    | 51/88 [01:14<00:46,  1.25s/it]"
          ]
        },
        {
          "output_type": "stream",
          "name": "stdout",
          "text": [
            "[186/200][50/88] Loss_D: -162.4968 Loss_G: 487.9405 GP: 7.1554 W_dist: 244.1122\n"
          ]
        },
        {
          "output_type": "stream",
          "name": "stderr",
          "text": [
            "Epoch 186/200:  69%|██████▉   | 61/88 [01:34<00:59,  2.19s/it]"
          ]
        },
        {
          "output_type": "stream",
          "name": "stdout",
          "text": [
            "✅ Checkpoint saved successfully for epoch 185\n"
          ]
        },
        {
          "output_type": "stream",
          "name": "stderr",
          "text": [
            "Epoch 186/200:  92%|█████████▏| 81/88 [02:02<00:12,  1.83s/it]"
          ]
        },
        {
          "output_type": "stream",
          "name": "stdout",
          "text": [
            "✅ Checkpoint saved successfully for epoch 185\n"
          ]
        },
        {
          "output_type": "stream",
          "name": "stderr",
          "text": [
            "Epoch 186/200: 100%|██████████| 88/88 [02:08<00:00,  1.46s/it]\n"
          ]
        },
        {
          "output_type": "stream",
          "name": "stdout",
          "text": [
            "\n",
            "📊 Epoch 186 Summary:\n",
            "   Avg G Loss: 485.5737\n",
            "   Avg D Loss: -165.7050\n",
            "   Avg Wasserstein: 231.5528\n",
            "🖼️  Saved generated images for epoch 186\n",
            "✅ Checkpoint saved successfully for epoch 185\n",
            "💾 Epoch 186 completed. Checkpoint saved.\n"
          ]
        },
        {
          "output_type": "stream",
          "name": "stderr",
          "text": [
            "\rEpoch 187/200:   0%|          | 0/88 [00:00<?, ?it/s]"
          ]
        },
        {
          "output_type": "stream",
          "name": "stdout",
          "text": [
            "[187/200][0/88] Loss_D: -158.3387 Loss_G: 489.9925 GP: 8.4621 W_dist: 242.9592\n"
          ]
        },
        {
          "output_type": "stream",
          "name": "stderr",
          "text": [
            "\rEpoch 187/200:   1%|          | 1/88 [00:12<17:59, 12.41s/it]"
          ]
        },
        {
          "output_type": "stream",
          "name": "stdout",
          "text": [
            "✅ Checkpoint saved successfully for epoch 186\n"
          ]
        },
        {
          "output_type": "stream",
          "name": "stderr",
          "text": [
            "Epoch 187/200:  24%|██▍       | 21/88 [00:48<02:23,  2.14s/it]"
          ]
        },
        {
          "output_type": "stream",
          "name": "stdout",
          "text": [
            "✅ Checkpoint saved successfully for epoch 186\n"
          ]
        },
        {
          "output_type": "stream",
          "name": "stderr",
          "text": [
            "Epoch 187/200:  47%|████▋     | 41/88 [01:24<02:09,  2.75s/it]"
          ]
        },
        {
          "output_type": "stream",
          "name": "stdout",
          "text": [
            "✅ Checkpoint saved successfully for epoch 186\n"
          ]
        },
        {
          "output_type": "stream",
          "name": "stderr",
          "text": [
            "Epoch 187/200:  58%|█████▊    | 51/88 [01:41<02:06,  3.42s/it]"
          ]
        },
        {
          "output_type": "stream",
          "name": "stdout",
          "text": [
            "[187/200][50/88] Loss_D: -141.9164 Loss_G: 483.4769 GP: 8.4378 W_dist: 230.4830\n"
          ]
        },
        {
          "output_type": "stream",
          "name": "stderr",
          "text": [
            "Epoch 187/200:  69%|██████▉   | 61/88 [01:58<01:01,  2.29s/it]"
          ]
        },
        {
          "output_type": "stream",
          "name": "stdout",
          "text": [
            "✅ Checkpoint saved successfully for epoch 186\n"
          ]
        },
        {
          "output_type": "stream",
          "name": "stderr",
          "text": [
            "Epoch 187/200:  92%|█████████▏| 81/88 [02:33<00:18,  2.65s/it]"
          ]
        },
        {
          "output_type": "stream",
          "name": "stdout",
          "text": [
            "✅ Checkpoint saved successfully for epoch 186\n"
          ]
        },
        {
          "output_type": "stream",
          "name": "stderr",
          "text": [
            "Epoch 187/200: 100%|██████████| 88/88 [02:38<00:00,  1.81s/it]\n"
          ]
        },
        {
          "output_type": "stream",
          "name": "stdout",
          "text": [
            "\n",
            "📊 Epoch 187 Summary:\n",
            "   Avg G Loss: 483.0196\n",
            "   Avg D Loss: -155.3135\n",
            "   Avg Wasserstein: 232.9001\n",
            "🖼️  Saved generated images for epoch 187\n",
            "✅ Checkpoint saved successfully for epoch 186\n",
            "💾 Epoch 187 completed. Checkpoint saved.\n"
          ]
        },
        {
          "output_type": "stream",
          "name": "stderr",
          "text": [
            "\rEpoch 188/200:   0%|          | 0/88 [00:00<?, ?it/s]"
          ]
        },
        {
          "output_type": "stream",
          "name": "stdout",
          "text": [
            "[188/200][0/88] Loss_D: -145.7444 Loss_G: 463.8416 GP: 8.3025 W_dist: 228.7691\n"
          ]
        },
        {
          "output_type": "stream",
          "name": "stderr",
          "text": [
            "\rEpoch 188/200:   1%|          | 1/88 [00:11<16:36, 11.46s/it]"
          ]
        },
        {
          "output_type": "stream",
          "name": "stdout",
          "text": [
            "✅ Checkpoint saved successfully for epoch 187\n"
          ]
        },
        {
          "output_type": "stream",
          "name": "stderr",
          "text": [
            "Epoch 188/200:  24%|██▍       | 21/88 [00:44<02:45,  2.47s/it]"
          ]
        },
        {
          "output_type": "stream",
          "name": "stdout",
          "text": [
            "✅ Checkpoint saved successfully for epoch 187\n"
          ]
        },
        {
          "output_type": "stream",
          "name": "stderr",
          "text": [
            "Epoch 188/200:  47%|████▋     | 41/88 [01:13<01:52,  2.40s/it]"
          ]
        },
        {
          "output_type": "stream",
          "name": "stdout",
          "text": [
            "✅ Checkpoint saved successfully for epoch 187\n"
          ]
        },
        {
          "output_type": "stream",
          "name": "stderr",
          "text": [
            "Epoch 188/200:  58%|█████▊    | 51/88 [01:21<00:43,  1.18s/it]"
          ]
        },
        {
          "output_type": "stream",
          "name": "stdout",
          "text": [
            "[188/200][50/88] Loss_D: -164.1176 Loss_G: 484.6324 GP: 8.6970 W_dist: 241.2760\n"
          ]
        },
        {
          "output_type": "stream",
          "name": "stderr",
          "text": [
            "Epoch 188/200:  69%|██████▉   | 61/88 [01:43<01:07,  2.50s/it]"
          ]
        },
        {
          "output_type": "stream",
          "name": "stdout",
          "text": [
            "✅ Checkpoint saved successfully for epoch 187\n"
          ]
        },
        {
          "output_type": "stream",
          "name": "stderr",
          "text": [
            "Epoch 188/200:  92%|█████████▏| 81/88 [02:12<00:14,  2.14s/it]"
          ]
        },
        {
          "output_type": "stream",
          "name": "stdout",
          "text": [
            "✅ Checkpoint saved successfully for epoch 187\n"
          ]
        },
        {
          "output_type": "stream",
          "name": "stderr",
          "text": [
            "Epoch 188/200: 100%|██████████| 88/88 [02:16<00:00,  1.55s/it]\n"
          ]
        },
        {
          "output_type": "stream",
          "name": "stdout",
          "text": [
            "\n",
            "📊 Epoch 188 Summary:\n",
            "   Avg G Loss: 481.9117\n",
            "   Avg D Loss: -164.7181\n",
            "   Avg Wasserstein: 232.5160\n",
            "🖼️  Saved generated images for epoch 188\n",
            "✅ Checkpoint saved successfully for epoch 187\n",
            "💾 Epoch 188 completed. Checkpoint saved.\n"
          ]
        },
        {
          "output_type": "stream",
          "name": "stderr",
          "text": [
            "\rEpoch 189/200:   0%|          | 0/88 [00:00<?, ?it/s]"
          ]
        },
        {
          "output_type": "stream",
          "name": "stdout",
          "text": [
            "[189/200][0/88] Loss_D: -220.6870 Loss_G: 441.7076 GP: 5.1191 W_dist: 271.8784\n"
          ]
        },
        {
          "output_type": "stream",
          "name": "stderr",
          "text": [
            "\rEpoch 189/200:   1%|          | 1/88 [00:05<08:08,  5.61s/it]"
          ]
        },
        {
          "output_type": "stream",
          "name": "stdout",
          "text": [
            "✅ Checkpoint saved successfully for epoch 188\n"
          ]
        },
        {
          "output_type": "stream",
          "name": "stderr",
          "text": [
            "Epoch 189/200:  24%|██▍       | 21/88 [00:44<03:03,  2.74s/it]"
          ]
        },
        {
          "output_type": "stream",
          "name": "stdout",
          "text": [
            "✅ Checkpoint saved successfully for epoch 188\n"
          ]
        },
        {
          "output_type": "stream",
          "name": "stderr",
          "text": [
            "Epoch 189/200:  47%|████▋     | 41/88 [01:15<01:45,  2.24s/it]"
          ]
        },
        {
          "output_type": "stream",
          "name": "stdout",
          "text": [
            "✅ Checkpoint saved successfully for epoch 188\n"
          ]
        },
        {
          "output_type": "stream",
          "name": "stderr",
          "text": [
            "Epoch 189/200:  58%|█████▊    | 51/88 [01:26<00:54,  1.47s/it]"
          ]
        },
        {
          "output_type": "stream",
          "name": "stdout",
          "text": [
            "[189/200][50/88] Loss_D: -150.0056 Loss_G: 482.9015 GP: 7.7582 W_dist: 230.1839\n"
          ]
        },
        {
          "output_type": "stream",
          "name": "stderr",
          "text": [
            "Epoch 189/200:  69%|██████▉   | 61/88 [01:46<00:54,  2.01s/it]"
          ]
        },
        {
          "output_type": "stream",
          "name": "stdout",
          "text": [
            "✅ Checkpoint saved successfully for epoch 188\n"
          ]
        },
        {
          "output_type": "stream",
          "name": "stderr",
          "text": [
            "Epoch 189/200:  92%|█████████▏| 81/88 [02:19<00:17,  2.56s/it]"
          ]
        },
        {
          "output_type": "stream",
          "name": "stdout",
          "text": [
            "✅ Checkpoint saved successfully for epoch 188\n"
          ]
        },
        {
          "output_type": "stream",
          "name": "stderr",
          "text": [
            "Epoch 189/200: 100%|██████████| 88/88 [02:24<00:00,  1.64s/it]\n"
          ]
        },
        {
          "output_type": "stream",
          "name": "stdout",
          "text": [
            "\n",
            "📊 Epoch 189 Summary:\n",
            "   Avg G Loss: 480.9448\n",
            "   Avg D Loss: -149.0154\n",
            "   Avg Wasserstein: 230.0408\n",
            "🖼️  Saved generated images for epoch 189\n",
            "✅ Checkpoint saved successfully for epoch 188\n",
            "💾 Epoch 189 completed. Checkpoint saved.\n"
          ]
        },
        {
          "output_type": "stream",
          "name": "stderr",
          "text": [
            "\rEpoch 190/200:   0%|          | 0/88 [00:00<?, ?it/s]"
          ]
        },
        {
          "output_type": "stream",
          "name": "stdout",
          "text": [
            "[190/200][0/88] Loss_D: -184.3097 Loss_G: 480.5105 GP: 6.3680 W_dist: 247.9893\n"
          ]
        },
        {
          "output_type": "stream",
          "name": "stderr",
          "text": [
            "\rEpoch 190/200:   1%|          | 1/88 [00:12<18:09, 12.52s/it]"
          ]
        },
        {
          "output_type": "stream",
          "name": "stdout",
          "text": [
            "✅ Checkpoint saved successfully for epoch 189\n"
          ]
        },
        {
          "output_type": "stream",
          "name": "stderr",
          "text": [
            "Epoch 190/200:  24%|██▍       | 21/88 [00:43<02:10,  1.95s/it]"
          ]
        },
        {
          "output_type": "stream",
          "name": "stdout",
          "text": [
            "✅ Checkpoint saved successfully for epoch 189\n"
          ]
        },
        {
          "output_type": "stream",
          "name": "stderr",
          "text": [
            "Epoch 190/200:  47%|████▋     | 41/88 [01:14<01:33,  1.99s/it]"
          ]
        },
        {
          "output_type": "stream",
          "name": "stdout",
          "text": [
            "✅ Checkpoint saved successfully for epoch 189\n"
          ]
        },
        {
          "output_type": "stream",
          "name": "stderr",
          "text": [
            "Epoch 190/200:  58%|█████▊    | 51/88 [01:31<01:30,  2.43s/it]"
          ]
        },
        {
          "output_type": "stream",
          "name": "stdout",
          "text": [
            "[190/200][50/88] Loss_D: -172.2256 Loss_G: 481.0980 GP: 6.8985 W_dist: 228.0785\n"
          ]
        },
        {
          "output_type": "stream",
          "name": "stderr",
          "text": [
            "Epoch 190/200:  69%|██████▉   | 61/88 [01:46<00:56,  2.10s/it]"
          ]
        },
        {
          "output_type": "stream",
          "name": "stdout",
          "text": [
            "✅ Checkpoint saved successfully for epoch 189\n"
          ]
        },
        {
          "output_type": "stream",
          "name": "stderr",
          "text": [
            "Epoch 190/200:  92%|█████████▏| 81/88 [02:16<00:13,  1.96s/it]"
          ]
        },
        {
          "output_type": "stream",
          "name": "stdout",
          "text": [
            "✅ Checkpoint saved successfully for epoch 189\n"
          ]
        },
        {
          "output_type": "stream",
          "name": "stderr",
          "text": [
            "Epoch 190/200: 100%|██████████| 88/88 [02:20<00:00,  1.60s/it]\n"
          ]
        },
        {
          "output_type": "stream",
          "name": "stdout",
          "text": [
            "\n",
            "📊 Epoch 190 Summary:\n",
            "   Avg G Loss: 485.9466\n",
            "   Avg D Loss: -166.8772\n",
            "   Avg Wasserstein: 231.4606\n",
            "📉 Learning rate reduced to: 1.3421772800000009e-05\n",
            "🖼️  Saved generated images for epoch 190\n",
            "💾 Saved model weights for epoch 190\n",
            "✅ Checkpoint saved successfully for epoch 189\n",
            "💾 Epoch 190 completed. Checkpoint saved.\n"
          ]
        },
        {
          "output_type": "stream",
          "name": "stderr",
          "text": [
            "\rEpoch 191/200:   0%|          | 0/88 [00:00<?, ?it/s]"
          ]
        },
        {
          "output_type": "stream",
          "name": "stdout",
          "text": [
            "[191/200][0/88] Loss_D: -147.3006 Loss_G: 484.7753 GP: 5.7602 W_dist: 204.9022\n"
          ]
        },
        {
          "output_type": "stream",
          "name": "stderr",
          "text": [
            "\rEpoch 191/200:   1%|          | 1/88 [00:05<08:00,  5.52s/it]"
          ]
        },
        {
          "output_type": "stream",
          "name": "stdout",
          "text": [
            "✅ Checkpoint saved successfully for epoch 190\n"
          ]
        },
        {
          "output_type": "stream",
          "name": "stderr",
          "text": [
            "Epoch 191/200:  24%|██▍       | 21/88 [00:36<02:13,  2.00s/it]"
          ]
        },
        {
          "output_type": "stream",
          "name": "stdout",
          "text": [
            "✅ Checkpoint saved successfully for epoch 190\n"
          ]
        },
        {
          "output_type": "stream",
          "name": "stderr",
          "text": [
            "Epoch 191/200:  47%|████▋     | 41/88 [01:05<01:37,  2.07s/it]"
          ]
        },
        {
          "output_type": "stream",
          "name": "stdout",
          "text": [
            "✅ Checkpoint saved successfully for epoch 190\n"
          ]
        },
        {
          "output_type": "stream",
          "name": "stderr",
          "text": [
            "Epoch 191/200:  58%|█████▊    | 51/88 [01:15<00:45,  1.24s/it]"
          ]
        },
        {
          "output_type": "stream",
          "name": "stdout",
          "text": [
            "[191/200][50/88] Loss_D: -147.7907 Loss_G: 488.1047 GP: 7.3662 W_dist: 220.0658\n"
          ]
        },
        {
          "output_type": "stream",
          "name": "stderr",
          "text": [
            "Epoch 191/200:  69%|██████▉   | 61/88 [01:34<00:53,  1.98s/it]"
          ]
        },
        {
          "output_type": "stream",
          "name": "stdout",
          "text": [
            "✅ Checkpoint saved successfully for epoch 190\n"
          ]
        },
        {
          "output_type": "stream",
          "name": "stderr",
          "text": [
            "Epoch 191/200:  92%|█████████▏| 81/88 [02:03<00:13,  1.97s/it]"
          ]
        },
        {
          "output_type": "stream",
          "name": "stdout",
          "text": [
            "✅ Checkpoint saved successfully for epoch 190\n"
          ]
        },
        {
          "output_type": "stream",
          "name": "stderr",
          "text": [
            "Epoch 191/200: 100%|██████████| 88/88 [02:08<00:00,  1.46s/it]\n"
          ]
        },
        {
          "output_type": "stream",
          "name": "stdout",
          "text": [
            "\n",
            "📊 Epoch 191 Summary:\n",
            "   Avg G Loss: 488.2689\n",
            "   Avg D Loss: -159.8587\n",
            "   Avg Wasserstein: 235.4449\n",
            "🖼️  Saved generated images for epoch 191\n",
            "✅ Checkpoint saved successfully for epoch 190\n",
            "💾 Epoch 191 completed. Checkpoint saved.\n"
          ]
        },
        {
          "output_type": "stream",
          "name": "stderr",
          "text": [
            "\rEpoch 192/200:   0%|          | 0/88 [00:00<?, ?it/s]"
          ]
        },
        {
          "output_type": "stream",
          "name": "stdout",
          "text": [
            "[192/200][0/88] Loss_D: -193.5824 Loss_G: 477.3322 GP: 7.3640 W_dist: 267.2220\n"
          ]
        },
        {
          "output_type": "stream",
          "name": "stderr",
          "text": [
            "\rEpoch 192/200:   1%|          | 1/88 [00:12<18:36, 12.83s/it]"
          ]
        },
        {
          "output_type": "stream",
          "name": "stdout",
          "text": [
            "✅ Checkpoint saved successfully for epoch 191\n"
          ]
        },
        {
          "output_type": "stream",
          "name": "stderr",
          "text": [
            "Epoch 192/200:  24%|██▍       | 21/88 [00:41<02:28,  2.22s/it]"
          ]
        },
        {
          "output_type": "stream",
          "name": "stdout",
          "text": [
            "✅ Checkpoint saved successfully for epoch 191\n"
          ]
        },
        {
          "output_type": "stream",
          "name": "stderr",
          "text": [
            "Epoch 192/200:  47%|████▋     | 41/88 [01:11<01:41,  2.16s/it]"
          ]
        },
        {
          "output_type": "stream",
          "name": "stdout",
          "text": [
            "✅ Checkpoint saved successfully for epoch 191\n"
          ]
        },
        {
          "output_type": "stream",
          "name": "stderr",
          "text": [
            "Epoch 192/200:  58%|█████▊    | 51/88 [01:21<00:42,  1.15s/it]"
          ]
        },
        {
          "output_type": "stream",
          "name": "stdout",
          "text": [
            "[192/200][50/88] Loss_D: -153.5020 Loss_G: 487.3551 GP: 9.1457 W_dist: 237.0662\n"
          ]
        },
        {
          "output_type": "stream",
          "name": "stderr",
          "text": [
            "Epoch 192/200:  69%|██████▉   | 61/88 [01:42<01:01,  2.29s/it]"
          ]
        },
        {
          "output_type": "stream",
          "name": "stdout",
          "text": [
            "✅ Checkpoint saved successfully for epoch 191\n"
          ]
        },
        {
          "output_type": "stream",
          "name": "stderr",
          "text": [
            "Epoch 192/200:  92%|█████████▏| 81/88 [02:11<00:15,  2.18s/it]"
          ]
        },
        {
          "output_type": "stream",
          "name": "stdout",
          "text": [
            "✅ Checkpoint saved successfully for epoch 191\n"
          ]
        },
        {
          "output_type": "stream",
          "name": "stderr",
          "text": [
            "Epoch 192/200: 100%|██████████| 88/88 [02:16<00:00,  1.55s/it]\n"
          ]
        },
        {
          "output_type": "stream",
          "name": "stdout",
          "text": [
            "\n",
            "📊 Epoch 192 Summary:\n",
            "   Avg G Loss: 486.0107\n",
            "   Avg D Loss: -165.8953\n",
            "   Avg Wasserstein: 233.0714\n",
            "🖼️  Saved generated images for epoch 192\n",
            "✅ Checkpoint saved successfully for epoch 191\n",
            "💾 Epoch 192 completed. Checkpoint saved.\n"
          ]
        },
        {
          "output_type": "stream",
          "name": "stderr",
          "text": [
            "\rEpoch 193/200:   0%|          | 0/88 [00:00<?, ?it/s]"
          ]
        },
        {
          "output_type": "stream",
          "name": "stdout",
          "text": [
            "[193/200][0/88] Loss_D: -219.9183 Loss_G: 491.7072 GP: 3.2458 W_dist: 252.3765\n"
          ]
        },
        {
          "output_type": "stream",
          "name": "stderr",
          "text": [
            "\rEpoch 193/200:   1%|          | 1/88 [00:05<07:24,  5.11s/it]"
          ]
        },
        {
          "output_type": "stream",
          "name": "stdout",
          "text": [
            "✅ Checkpoint saved successfully for epoch 192\n"
          ]
        },
        {
          "output_type": "stream",
          "name": "stderr",
          "text": [
            "Epoch 193/200:  24%|██▍       | 21/88 [00:33<02:14,  2.01s/it]"
          ]
        },
        {
          "output_type": "stream",
          "name": "stdout",
          "text": [
            "✅ Checkpoint saved successfully for epoch 192\n"
          ]
        },
        {
          "output_type": "stream",
          "name": "stderr",
          "text": [
            "Epoch 193/200:  47%|████▋     | 41/88 [01:02<01:23,  1.77s/it]"
          ]
        },
        {
          "output_type": "stream",
          "name": "stdout",
          "text": [
            "✅ Checkpoint saved successfully for epoch 192\n"
          ]
        },
        {
          "output_type": "stream",
          "name": "stderr",
          "text": [
            "Epoch 193/200:  58%|█████▊    | 51/88 [01:18<01:23,  2.27s/it]"
          ]
        },
        {
          "output_type": "stream",
          "name": "stdout",
          "text": [
            "[193/200][50/88] Loss_D: -156.0754 Loss_G: 487.1824 GP: 7.7925 W_dist: 235.2051\n"
          ]
        },
        {
          "output_type": "stream",
          "name": "stderr",
          "text": [
            "Epoch 193/200:  69%|██████▉   | 61/88 [01:32<00:52,  1.96s/it]"
          ]
        },
        {
          "output_type": "stream",
          "name": "stdout",
          "text": [
            "✅ Checkpoint saved successfully for epoch 192\n"
          ]
        },
        {
          "output_type": "stream",
          "name": "stderr",
          "text": [
            "Epoch 193/200:  92%|█████████▏| 81/88 [02:05<00:15,  2.17s/it]"
          ]
        },
        {
          "output_type": "stream",
          "name": "stdout",
          "text": [
            "✅ Checkpoint saved successfully for epoch 192\n"
          ]
        },
        {
          "output_type": "stream",
          "name": "stderr",
          "text": [
            "Epoch 193/200: 100%|██████████| 88/88 [02:09<00:00,  1.47s/it]\n"
          ]
        },
        {
          "output_type": "stream",
          "name": "stdout",
          "text": [
            "\n",
            "📊 Epoch 193 Summary:\n",
            "   Avg G Loss: 489.8462\n",
            "   Avg D Loss: -156.0787\n",
            "   Avg Wasserstein: 236.5941\n",
            "🖼️  Saved generated images for epoch 193\n",
            "✅ Checkpoint saved successfully for epoch 192\n",
            "💾 Epoch 193 completed. Checkpoint saved.\n"
          ]
        },
        {
          "output_type": "stream",
          "name": "stderr",
          "text": [
            "\rEpoch 194/200:   0%|          | 0/88 [00:00<?, ?it/s]"
          ]
        },
        {
          "output_type": "stream",
          "name": "stdout",
          "text": [
            "[194/200][0/88] Loss_D: -50.0643 Loss_G: 501.8801 GP: 11.9358 W_dist: 169.4219\n"
          ]
        },
        {
          "output_type": "stream",
          "name": "stderr",
          "text": [
            "\rEpoch 194/200:   1%|          | 1/88 [00:06<09:18,  6.42s/it]"
          ]
        },
        {
          "output_type": "stream",
          "name": "stdout",
          "text": [
            "✅ Checkpoint saved successfully for epoch 193\n"
          ]
        },
        {
          "output_type": "stream",
          "name": "stderr",
          "text": [
            "Epoch 194/200:  24%|██▍       | 21/88 [00:41<02:24,  2.16s/it]"
          ]
        },
        {
          "output_type": "stream",
          "name": "stdout",
          "text": [
            "✅ Checkpoint saved successfully for epoch 193\n"
          ]
        },
        {
          "output_type": "stream",
          "name": "stderr",
          "text": [
            "Epoch 194/200:  47%|████▋     | 41/88 [01:11<01:27,  1.86s/it]"
          ]
        },
        {
          "output_type": "stream",
          "name": "stdout",
          "text": [
            "✅ Checkpoint saved successfully for epoch 193\n"
          ]
        },
        {
          "output_type": "stream",
          "name": "stderr",
          "text": [
            "Epoch 194/200:  58%|█████▊    | 51/88 [01:20<00:36,  1.01it/s]"
          ]
        },
        {
          "output_type": "stream",
          "name": "stdout",
          "text": [
            "[194/200][50/88] Loss_D: -157.9696 Loss_G: 496.4160 GP: 7.6409 W_dist: 229.1746\n"
          ]
        },
        {
          "output_type": "stream",
          "name": "stderr",
          "text": [
            "Epoch 194/200:  69%|██████▉   | 61/88 [01:40<00:59,  2.22s/it]"
          ]
        },
        {
          "output_type": "stream",
          "name": "stdout",
          "text": [
            "✅ Checkpoint saved successfully for epoch 193\n"
          ]
        },
        {
          "output_type": "stream",
          "name": "stderr",
          "text": [
            "Epoch 194/200:  92%|█████████▏| 81/88 [02:10<00:16,  2.42s/it]"
          ]
        },
        {
          "output_type": "stream",
          "name": "stdout",
          "text": [
            "✅ Checkpoint saved successfully for epoch 193\n"
          ]
        },
        {
          "output_type": "stream",
          "name": "stderr",
          "text": [
            "Epoch 194/200: 100%|██████████| 88/88 [02:14<00:00,  1.53s/it]\n"
          ]
        },
        {
          "output_type": "stream",
          "name": "stdout",
          "text": [
            "\n",
            "📊 Epoch 194 Summary:\n",
            "   Avg G Loss: 492.6748\n",
            "   Avg D Loss: -147.1527\n",
            "   Avg Wasserstein: 232.1793\n",
            "🖼️  Saved generated images for epoch 194\n",
            "✅ Checkpoint saved successfully for epoch 193\n",
            "💾 Epoch 194 completed. Checkpoint saved.\n"
          ]
        },
        {
          "output_type": "stream",
          "name": "stderr",
          "text": [
            "\rEpoch 195/200:   0%|          | 0/88 [00:00<?, ?it/s]"
          ]
        },
        {
          "output_type": "stream",
          "name": "stdout",
          "text": [
            "[195/200][0/88] Loss_D: -141.0205 Loss_G: 501.8983 GP: 6.9269 W_dist: 210.2899\n"
          ]
        },
        {
          "output_type": "stream",
          "name": "stderr",
          "text": [
            "\rEpoch 195/200:   1%|          | 1/88 [00:06<09:10,  6.32s/it]"
          ]
        },
        {
          "output_type": "stream",
          "name": "stdout",
          "text": [
            "✅ Checkpoint saved successfully for epoch 194\n"
          ]
        },
        {
          "output_type": "stream",
          "name": "stderr",
          "text": [
            "Epoch 195/200:  24%|██▍       | 21/88 [00:43<02:46,  2.48s/it]"
          ]
        },
        {
          "output_type": "stream",
          "name": "stdout",
          "text": [
            "✅ Checkpoint saved successfully for epoch 194\n"
          ]
        },
        {
          "output_type": "stream",
          "name": "stderr",
          "text": [
            "Epoch 195/200:  47%|████▋     | 41/88 [01:12<01:49,  2.32s/it]"
          ]
        },
        {
          "output_type": "stream",
          "name": "stdout",
          "text": [
            "✅ Checkpoint saved successfully for epoch 194\n"
          ]
        },
        {
          "output_type": "stream",
          "name": "stderr",
          "text": [
            "Epoch 195/200:  58%|█████▊    | 51/88 [01:21<00:39,  1.07s/it]"
          ]
        },
        {
          "output_type": "stream",
          "name": "stdout",
          "text": [
            "[195/200][50/88] Loss_D: -150.1340 Loss_G: 485.8425 GP: 7.6897 W_dist: 223.9058\n"
          ]
        },
        {
          "output_type": "stream",
          "name": "stderr",
          "text": [
            "Epoch 195/200:  69%|██████▉   | 61/88 [01:41<00:53,  1.99s/it]"
          ]
        },
        {
          "output_type": "stream",
          "name": "stdout",
          "text": [
            "✅ Checkpoint saved successfully for epoch 194\n"
          ]
        },
        {
          "output_type": "stream",
          "name": "stderr",
          "text": [
            "Epoch 195/200:  92%|█████████▏| 81/88 [02:10<00:14,  2.14s/it]"
          ]
        },
        {
          "output_type": "stream",
          "name": "stdout",
          "text": [
            "✅ Checkpoint saved successfully for epoch 194\n"
          ]
        },
        {
          "output_type": "stream",
          "name": "stderr",
          "text": [
            "Epoch 195/200: 100%|██████████| 88/88 [02:15<00:00,  1.54s/it]\n"
          ]
        },
        {
          "output_type": "stream",
          "name": "stdout",
          "text": [
            "\n",
            "📊 Epoch 195 Summary:\n",
            "   Avg G Loss: 484.2170\n",
            "   Avg D Loss: -149.4112\n",
            "   Avg Wasserstein: 235.4900\n",
            "📉 Learning rate reduced to: 1.0737418240000008e-05\n",
            "🖼️  Saved generated images for epoch 195\n",
            "✅ Checkpoint saved successfully for epoch 194\n",
            "💾 Epoch 195 completed. Checkpoint saved.\n"
          ]
        },
        {
          "output_type": "stream",
          "name": "stderr",
          "text": [
            "\rEpoch 196/200:   0%|          | 0/88 [00:00<?, ?it/s]"
          ]
        },
        {
          "output_type": "stream",
          "name": "stdout",
          "text": [
            "[196/200][0/88] Loss_D: -228.4435 Loss_G: 485.6363 GP: 2.8812 W_dist: 257.2557\n"
          ]
        },
        {
          "output_type": "stream",
          "name": "stderr",
          "text": [
            "\rEpoch 196/200:   1%|          | 1/88 [00:06<08:56,  6.16s/it]"
          ]
        },
        {
          "output_type": "stream",
          "name": "stdout",
          "text": [
            "✅ Checkpoint saved successfully for epoch 195\n"
          ]
        },
        {
          "output_type": "stream",
          "name": "stderr",
          "text": [
            "Epoch 196/200:  24%|██▍       | 21/88 [00:34<02:31,  2.26s/it]"
          ]
        },
        {
          "output_type": "stream",
          "name": "stdout",
          "text": [
            "✅ Checkpoint saved successfully for epoch 195\n"
          ]
        },
        {
          "output_type": "stream",
          "name": "stderr",
          "text": [
            "Epoch 196/200:  47%|████▋     | 41/88 [01:06<01:32,  1.98s/it]"
          ]
        },
        {
          "output_type": "stream",
          "name": "stdout",
          "text": [
            "✅ Checkpoint saved successfully for epoch 195\n"
          ]
        },
        {
          "output_type": "stream",
          "name": "stderr",
          "text": [
            "Epoch 196/200:  58%|█████▊    | 51/88 [01:15<00:41,  1.12s/it]"
          ]
        },
        {
          "output_type": "stream",
          "name": "stdout",
          "text": [
            "[196/200][50/88] Loss_D: -158.9699 Loss_G: 493.9249 GP: 7.0180 W_dist: 236.0588\n"
          ]
        },
        {
          "output_type": "stream",
          "name": "stderr",
          "text": [
            "Epoch 196/200:  69%|██████▉   | 61/88 [01:35<00:52,  1.95s/it]"
          ]
        },
        {
          "output_type": "stream",
          "name": "stdout",
          "text": [
            "✅ Checkpoint saved successfully for epoch 195\n"
          ]
        },
        {
          "output_type": "stream",
          "name": "stderr",
          "text": [
            "Epoch 196/200:  92%|█████████▏| 81/88 [02:03<00:12,  1.76s/it]"
          ]
        },
        {
          "output_type": "stream",
          "name": "stdout",
          "text": [
            "✅ Checkpoint saved successfully for epoch 195\n"
          ]
        },
        {
          "output_type": "stream",
          "name": "stderr",
          "text": [
            "Epoch 196/200: 100%|██████████| 88/88 [02:07<00:00,  1.45s/it]\n"
          ]
        },
        {
          "output_type": "stream",
          "name": "stdout",
          "text": [
            "\n",
            "📊 Epoch 196 Summary:\n",
            "   Avg G Loss: 491.3757\n",
            "   Avg D Loss: -164.2313\n",
            "   Avg Wasserstein: 234.8584\n",
            "🖼️  Saved generated images for epoch 196\n",
            "✅ Checkpoint saved successfully for epoch 195\n",
            "💾 Epoch 196 completed. Checkpoint saved.\n"
          ]
        },
        {
          "output_type": "stream",
          "name": "stderr",
          "text": [
            "\rEpoch 197/200:   0%|          | 0/88 [00:00<?, ?it/s]"
          ]
        },
        {
          "output_type": "stream",
          "name": "stdout",
          "text": [
            "[197/200][0/88] Loss_D: -117.5037 Loss_G: 492.2493 GP: 9.0760 W_dist: 208.2639\n"
          ]
        },
        {
          "output_type": "stream",
          "name": "stderr",
          "text": [
            "\rEpoch 197/200:   1%|          | 1/88 [00:04<06:52,  4.74s/it]"
          ]
        },
        {
          "output_type": "stream",
          "name": "stdout",
          "text": [
            "✅ Checkpoint saved successfully for epoch 196\n"
          ]
        },
        {
          "output_type": "stream",
          "name": "stderr",
          "text": [
            "Epoch 197/200:  24%|██▍       | 21/88 [00:33<02:07,  1.91s/it]"
          ]
        },
        {
          "output_type": "stream",
          "name": "stdout",
          "text": [
            "✅ Checkpoint saved successfully for epoch 196\n"
          ]
        },
        {
          "output_type": "stream",
          "name": "stderr",
          "text": [
            "Epoch 197/200:  47%|████▋     | 41/88 [01:02<01:35,  2.02s/it]"
          ]
        },
        {
          "output_type": "stream",
          "name": "stdout",
          "text": [
            "✅ Checkpoint saved successfully for epoch 196\n"
          ]
        },
        {
          "output_type": "stream",
          "name": "stderr",
          "text": [
            "Epoch 197/200:  58%|█████▊    | 51/88 [01:12<00:46,  1.24s/it]"
          ]
        },
        {
          "output_type": "stream",
          "name": "stdout",
          "text": [
            "[197/200][50/88] Loss_D: -150.7611 Loss_G: 491.6723 GP: 8.4748 W_dist: 232.3374\n"
          ]
        },
        {
          "output_type": "stream",
          "name": "stderr",
          "text": [
            "Epoch 197/200:  69%|██████▉   | 61/88 [01:32<00:57,  2.11s/it]"
          ]
        },
        {
          "output_type": "stream",
          "name": "stdout",
          "text": [
            "✅ Checkpoint saved successfully for epoch 196\n"
          ]
        },
        {
          "output_type": "stream",
          "name": "stderr",
          "text": [
            "Epoch 197/200:  92%|█████████▏| 81/88 [02:04<00:16,  2.31s/it]"
          ]
        },
        {
          "output_type": "stream",
          "name": "stdout",
          "text": [
            "✅ Checkpoint saved successfully for epoch 196\n"
          ]
        },
        {
          "output_type": "stream",
          "name": "stderr",
          "text": [
            "Epoch 197/200: 100%|██████████| 88/88 [02:08<00:00,  1.46s/it]\n"
          ]
        },
        {
          "output_type": "stream",
          "name": "stdout",
          "text": [
            "\n",
            "📊 Epoch 197 Summary:\n",
            "   Avg G Loss: 490.1603\n",
            "   Avg D Loss: -155.2775\n",
            "   Avg Wasserstein: 236.3759\n",
            "🖼️  Saved generated images for epoch 197\n",
            "✅ Checkpoint saved successfully for epoch 196\n",
            "💾 Epoch 197 completed. Checkpoint saved.\n"
          ]
        },
        {
          "output_type": "stream",
          "name": "stderr",
          "text": [
            "\rEpoch 198/200:   0%|          | 0/88 [00:00<?, ?it/s]"
          ]
        },
        {
          "output_type": "stream",
          "name": "stdout",
          "text": [
            "[198/200][0/88] Loss_D: -142.3983 Loss_G: 510.5681 GP: 6.9995 W_dist: 212.3931\n"
          ]
        },
        {
          "output_type": "stream",
          "name": "stderr",
          "text": [
            "\rEpoch 198/200:   1%|          | 1/88 [00:12<18:24, 12.69s/it]"
          ]
        },
        {
          "output_type": "stream",
          "name": "stdout",
          "text": [
            "✅ Checkpoint saved successfully for epoch 197\n"
          ]
        },
        {
          "output_type": "stream",
          "name": "stderr",
          "text": [
            "Epoch 198/200:  24%|██▍       | 21/88 [00:41<02:20,  2.10s/it]"
          ]
        },
        {
          "output_type": "stream",
          "name": "stdout",
          "text": [
            "✅ Checkpoint saved successfully for epoch 197\n"
          ]
        },
        {
          "output_type": "stream",
          "name": "stderr",
          "text": [
            "Epoch 198/200:  47%|████▋     | 41/88 [01:21<01:38,  2.09s/it]"
          ]
        },
        {
          "output_type": "stream",
          "name": "stdout",
          "text": [
            "✅ Checkpoint saved successfully for epoch 197\n"
          ]
        },
        {
          "output_type": "stream",
          "name": "stderr",
          "text": [
            "Epoch 198/200:  58%|█████▊    | 51/88 [01:30<00:45,  1.22s/it]"
          ]
        },
        {
          "output_type": "stream",
          "name": "stdout",
          "text": [
            "[198/200][50/88] Loss_D: -167.1311 Loss_G: 498.1936 GP: 8.5751 W_dist: 232.3080\n"
          ]
        },
        {
          "output_type": "stream",
          "name": "stderr",
          "text": [
            "Epoch 198/200:  69%|██████▉   | 61/88 [01:50<00:52,  1.95s/it]"
          ]
        },
        {
          "output_type": "stream",
          "name": "stdout",
          "text": [
            "✅ Checkpoint saved successfully for epoch 197\n"
          ]
        },
        {
          "output_type": "stream",
          "name": "stderr",
          "text": [
            "Epoch 198/200:  92%|█████████▏| 81/88 [02:22<00:12,  1.85s/it]"
          ]
        },
        {
          "output_type": "stream",
          "name": "stdout",
          "text": [
            "✅ Checkpoint saved successfully for epoch 197\n"
          ]
        },
        {
          "output_type": "stream",
          "name": "stderr",
          "text": [
            "Epoch 198/200: 100%|██████████| 88/88 [02:28<00:00,  1.68s/it]\n"
          ]
        },
        {
          "output_type": "stream",
          "name": "stdout",
          "text": [
            "\n",
            "📊 Epoch 198 Summary:\n",
            "   Avg G Loss: 495.8750\n",
            "   Avg D Loss: -163.4584\n",
            "   Avg Wasserstein: 235.1242\n",
            "🖼️  Saved generated images for epoch 198\n",
            "✅ Checkpoint saved successfully for epoch 197\n",
            "💾 Epoch 198 completed. Checkpoint saved.\n"
          ]
        },
        {
          "output_type": "stream",
          "name": "stderr",
          "text": [
            "\rEpoch 199/200:   0%|          | 0/88 [00:00<?, ?it/s]"
          ]
        },
        {
          "output_type": "stream",
          "name": "stdout",
          "text": [
            "[199/200][0/88] Loss_D: -31.6336 Loss_G: 499.9905 GP: 24.8507 W_dist: 280.1410\n"
          ]
        },
        {
          "output_type": "stream",
          "name": "stderr",
          "text": [
            "\rEpoch 199/200:   1%|          | 1/88 [00:05<08:37,  5.95s/it]"
          ]
        },
        {
          "output_type": "stream",
          "name": "stdout",
          "text": [
            "✅ Checkpoint saved successfully for epoch 198\n"
          ]
        },
        {
          "output_type": "stream",
          "name": "stderr",
          "text": [
            "Epoch 199/200:  24%|██▍       | 21/88 [00:34<02:08,  1.91s/it]"
          ]
        },
        {
          "output_type": "stream",
          "name": "stdout",
          "text": [
            "✅ Checkpoint saved successfully for epoch 198\n"
          ]
        },
        {
          "output_type": "stream",
          "name": "stderr",
          "text": [
            "Epoch 199/200:  47%|████▋     | 41/88 [01:03<01:25,  1.83s/it]"
          ]
        },
        {
          "output_type": "stream",
          "name": "stdout",
          "text": [
            "✅ Checkpoint saved successfully for epoch 198\n"
          ]
        },
        {
          "output_type": "stream",
          "name": "stderr",
          "text": [
            "Epoch 199/200:  58%|█████▊    | 51/88 [01:19<01:41,  2.74s/it]"
          ]
        },
        {
          "output_type": "stream",
          "name": "stdout",
          "text": [
            "[199/200][50/88] Loss_D: -171.4927 Loss_G: 481.6232 GP: 7.6678 W_dist: 229.7490\n"
          ]
        },
        {
          "output_type": "stream",
          "name": "stderr",
          "text": [
            "Epoch 199/200:  69%|██████▉   | 61/88 [01:32<00:48,  1.79s/it]"
          ]
        },
        {
          "output_type": "stream",
          "name": "stdout",
          "text": [
            "✅ Checkpoint saved successfully for epoch 198\n"
          ]
        },
        {
          "output_type": "stream",
          "name": "stderr",
          "text": [
            "Epoch 199/200:  92%|█████████▏| 81/88 [02:03<00:14,  2.11s/it]"
          ]
        },
        {
          "output_type": "stream",
          "name": "stdout",
          "text": [
            "✅ Checkpoint saved successfully for epoch 198\n"
          ]
        },
        {
          "output_type": "stream",
          "name": "stderr",
          "text": [
            "Epoch 199/200: 100%|██████████| 88/88 [02:08<00:00,  1.46s/it]\n"
          ]
        },
        {
          "output_type": "stream",
          "name": "stdout",
          "text": [
            "\n",
            "📊 Epoch 199 Summary:\n",
            "   Avg G Loss: 488.5639\n",
            "   Avg D Loss: -160.4400\n",
            "   Avg Wasserstein: 236.8000\n",
            "🖼️  Saved generated images for epoch 199\n",
            "✅ Checkpoint saved successfully for epoch 198\n",
            "💾 Epoch 199 completed. Checkpoint saved.\n"
          ]
        },
        {
          "output_type": "stream",
          "name": "stderr",
          "text": [
            "\rEpoch 200/200:   0%|          | 0/88 [00:00<?, ?it/s]"
          ]
        },
        {
          "output_type": "stream",
          "name": "stdout",
          "text": [
            "[200/200][0/88] Loss_D: -137.2825 Loss_G: 488.0953 GP: 6.5719 W_dist: 203.0019\n"
          ]
        },
        {
          "output_type": "stream",
          "name": "stderr",
          "text": [
            "\rEpoch 200/200:   1%|          | 1/88 [00:04<06:40,  4.60s/it]"
          ]
        },
        {
          "output_type": "stream",
          "name": "stdout",
          "text": [
            "✅ Checkpoint saved successfully for epoch 199\n"
          ]
        },
        {
          "output_type": "stream",
          "name": "stderr",
          "text": [
            "Epoch 200/200:  24%|██▍       | 21/88 [00:34<02:21,  2.11s/it]"
          ]
        },
        {
          "output_type": "stream",
          "name": "stdout",
          "text": [
            "✅ Checkpoint saved successfully for epoch 199\n"
          ]
        },
        {
          "output_type": "stream",
          "name": "stderr",
          "text": [
            "Epoch 200/200:  47%|████▋     | 41/88 [01:06<01:51,  2.38s/it]"
          ]
        },
        {
          "output_type": "stream",
          "name": "stdout",
          "text": [
            "✅ Checkpoint saved successfully for epoch 199\n"
          ]
        },
        {
          "output_type": "stream",
          "name": "stderr",
          "text": [
            "Epoch 200/200:  58%|█████▊    | 51/88 [01:14<00:40,  1.10s/it]"
          ]
        },
        {
          "output_type": "stream",
          "name": "stdout",
          "text": [
            "[200/200][50/88] Loss_D: -139.1160 Loss_G: 484.8988 GP: 8.7766 W_dist: 224.4685\n"
          ]
        },
        {
          "output_type": "stream",
          "name": "stderr",
          "text": [
            "Epoch 200/200:  69%|██████▉   | 61/88 [01:35<01:00,  2.25s/it]"
          ]
        },
        {
          "output_type": "stream",
          "name": "stdout",
          "text": [
            "✅ Checkpoint saved successfully for epoch 199\n"
          ]
        },
        {
          "output_type": "stream",
          "name": "stderr",
          "text": [
            "Epoch 200/200:  92%|█████████▏| 81/88 [02:05<00:15,  2.17s/it]"
          ]
        },
        {
          "output_type": "stream",
          "name": "stdout",
          "text": [
            "✅ Checkpoint saved successfully for epoch 199\n"
          ]
        },
        {
          "output_type": "stream",
          "name": "stderr",
          "text": [
            "Epoch 200/200: 100%|██████████| 88/88 [02:09<00:00,  1.47s/it]\n"
          ]
        },
        {
          "output_type": "stream",
          "name": "stdout",
          "text": [
            "\n",
            "📊 Epoch 200 Summary:\n",
            "   Avg G Loss: 489.1017\n",
            "   Avg D Loss: -139.5694\n",
            "   Avg Wasserstein: 231.5773\n",
            "📉 Learning rate reduced to: 8.589934592000007e-06\n",
            "🖼️  Saved generated images for epoch 200\n",
            "💾 Saved model weights for epoch 200\n",
            "✅ Checkpoint saved successfully for epoch 199\n",
            "💾 Epoch 200 completed. Checkpoint saved.\n",
            "💾 Saved final models\n",
            "✅ GAN Training Complete!\n"
          ]
        }
      ],
      "source": [
        "import torch\n",
        "import torch.nn as nn\n",
        "import torch.optim as optim\n",
        "from torch.utils.data import DataLoader, Dataset\n",
        "import torchvision.models as models\n",
        "import torchvision.utils as vutils\n",
        "import pandas as pd\n",
        "from tqdm import tqdm\n",
        "import os\n",
        "import yaml\n",
        "import numpy as np\n",
        "from PIL import Image\n",
        "import albumentations as A\n",
        "from albumentations.pytorch import ToTensorV2\n",
        "import segmentation_models_pytorch as smp\n",
        "import hashlib\n",
        "import shutil\n",
        "\n",
        "# --- Utility Functions ---\n",
        "def weights_init(m):\n",
        "    \"\"\"Custom weights initialization called on netG and netD.\"\"\"\n",
        "    classname = m.__class__.__name__\n",
        "    if classname.find('Conv') != -1:\n",
        "        nn.init.normal_(m.weight.data, 0.0, 0.02)\n",
        "    elif classname.find('BatchNorm') != -1:\n",
        "        nn.init.normal_(m.weight.data, 1.0, 0.02)\n",
        "        nn.init.constant_(m.bias.data, 0)\n",
        "\n",
        "def gradient_penalty(critic, real, fake, device):\n",
        "    \"\"\"Calculates the gradient penalty for WGAN-GP.\"\"\"\n",
        "    BATCH_SIZE, C, H, W = real.shape\n",
        "    alpha = torch.rand((BATCH_SIZE, 1, 1, 1)).repeat(1, C, H, W).to(device)\n",
        "\n",
        "    # Create interpolated images WITH gradient tracking\n",
        "    interpolated_images = real * alpha + fake * (1 - alpha)\n",
        "    interpolated_images.requires_grad_(True)\n",
        "\n",
        "    # Calculate critic scores\n",
        "    mixed_scores = critic(interpolated_images)\n",
        "\n",
        "    # Compute gradients\n",
        "    gradient = torch.autograd.grad(\n",
        "        inputs=interpolated_images,\n",
        "        outputs=mixed_scores,\n",
        "        grad_outputs=torch.ones_like(mixed_scores),\n",
        "        create_graph=True,\n",
        "        retain_graph=True,\n",
        "    )[0]\n",
        "\n",
        "    gradient = gradient.view(gradient.shape[0], -1)\n",
        "    gradient_norm = gradient.norm(2, dim=1)\n",
        "    gp = torch.mean((gradient_norm - 1) ** 2)\n",
        "    return gp\n",
        "\n",
        "def is_valid_checkpoint(file_path):\n",
        "    \"\"\"Check if a checkpoint file is valid.\"\"\"\n",
        "    if not os.path.exists(file_path):\n",
        "        return False\n",
        "\n",
        "    try:\n",
        "        checkpoint = torch.load(file_path, map_location='cpu', weights_only=False)\n",
        "        required_keys = ['epoch', 'netG_state_dict', 'netD_state_dict',\n",
        "                        'optimizerG_state_dict', 'optimizerD_state_dict',\n",
        "                        'G_losses', 'D_losses']\n",
        "\n",
        "        if not all(key in checkpoint for key in required_keys):\n",
        "            return False\n",
        "\n",
        "        return True\n",
        "    except Exception as e:\n",
        "        return False\n",
        "\n",
        "def save_checkpoint(epoch, netG, netD, optimizerG, optimizerD, G_losses, D_losses, path):\n",
        "    \"\"\"Save training checkpoint with integrity verification.\"\"\"\n",
        "    try:\n",
        "        temp_path = path + \".temp\"\n",
        "\n",
        "        torch.save({\n",
        "            'epoch': epoch,\n",
        "            'netG_state_dict': netG.state_dict(),\n",
        "            'netD_state_dict': netD.state_dict(),\n",
        "            'optimizerG_state_dict': optimizerG.state_dict(),\n",
        "            'optimizerD_state_dict': optimizerD.state_dict(),\n",
        "            'G_losses': G_losses,\n",
        "            'D_losses': D_losses\n",
        "        }, temp_path)\n",
        "\n",
        "        if is_valid_checkpoint(temp_path):\n",
        "            if os.path.exists(path):\n",
        "                os.remove(path)\n",
        "            shutil.move(temp_path, path)\n",
        "            print(f\"✅ Checkpoint saved successfully for epoch {epoch}\")\n",
        "            return True\n",
        "        else:\n",
        "            if os.path.exists(temp_path):\n",
        "                os.remove(temp_path)\n",
        "            return False\n",
        "    except Exception as e:\n",
        "        if os.path.exists(temp_path):\n",
        "            os.remove(temp_path)\n",
        "        return False\n",
        "\n",
        "def load_checkpoint(path, netG, netD, optimizerG, optimizerD, device):\n",
        "    \"\"\"Load training checkpoint with error handling.\"\"\"\n",
        "    if not os.path.exists(path):\n",
        "        return 0, [], []\n",
        "\n",
        "    if not is_valid_checkpoint(path):\n",
        "        corrupted_path = path + \".corrupted\"\n",
        "        if os.path.exists(path):\n",
        "            shutil.move(path, corrupted_path)\n",
        "        return 0, [], []\n",
        "\n",
        "    try:\n",
        "        checkpoint = torch.load(path, map_location=device, weights_only=False)\n",
        "        netG.load_state_dict(checkpoint['netG_state_dict'])\n",
        "        netD.load_state_dict(checkpoint['netD_state_dict'])\n",
        "        optimizerG.load_state_dict(checkpoint['optimizerG_state_dict'])\n",
        "        optimizerD.load_state_dict(checkpoint['optimizerD_state_dict'])\n",
        "        print(f\"✅ Checkpoint loaded successfully from epoch {checkpoint['epoch']}\")\n",
        "        return checkpoint['epoch'], checkpoint['G_losses'], checkpoint['D_losses']\n",
        "\n",
        "    except Exception as e:\n",
        "        corrupted_path = path + \".corrupted\"\n",
        "        if os.path.exists(path):\n",
        "            shutil.move(path, corrupted_path)\n",
        "        return 0, [], []\n",
        "\n",
        "# --- 🚀 Main Training Execution ---\n",
        "def run_gan_training(CONFIG):\n",
        "    DEVICE = CONFIG['DEVICE']\n",
        "    os.makedirs(CONFIG['IMAGE_OUTPUT_DIR'], exist_ok=True)\n",
        "    os.makedirs(CONFIG['OUTPUT_DIR'], exist_ok=True)\n",
        "    print(f\"Using device: {DEVICE}\")\n",
        "\n",
        "    # --- Data Loading ---\n",
        "    transform = A.Compose([\n",
        "        A.Resize(CONFIG['IMG_SIZE'], CONFIG['IMG_SIZE']),\n",
        "        A.Normalize(mean=[0.5, 0.5, 0.5], std=[0.5, 0.5, 0.5]),\n",
        "        ToTensorV2(),\n",
        "    ])\n",
        "    train_df = pd.read_csv(CONFIG['TRAIN_CSV_PATH'])\n",
        "    train_dataset = MIMICCXR_GANDataset(train_df, CONFIG['IMAGE_DIR'], transform=transform)\n",
        "    dataloader = DataLoader(train_dataset, batch_size=CONFIG['BATCH_SIZE'], shuffle=True,\n",
        "                           num_workers=CONFIG['NUM_WORKERS'])\n",
        "\n",
        "    # --- Initialize Models ---\n",
        "    netG = Generator(CONFIG['LATENT_DIM'], CONFIG['CHANNELS']).to(DEVICE)\n",
        "    netD = Discriminator(CONFIG['CHANNELS']).to(DEVICE)\n",
        "\n",
        "    # --- Load Frozen Critics ---\n",
        "    Cdiag = models.resnet50()\n",
        "    Cdiag.fc = nn.Linear(Cdiag.fc.in_features, 1)\n",
        "    Cdiag.load_state_dict(torch.load(CONFIG['CDIAG_PATH'], map_location=DEVICE))\n",
        "    Cdiag.eval()\n",
        "    for param in Cdiag.parameters():\n",
        "        param.requires_grad = False\n",
        "    Cdiag.to(DEVICE)\n",
        "\n",
        "    Cseg = smp.Unet(encoder_name=\"resnet34\", in_channels=3, classes=1)\n",
        "    Cseg.load_state_dict(torch.load(CONFIG['CSEG_PATH'], map_location=DEVICE))\n",
        "    Cseg.eval()\n",
        "    for param in Cseg.parameters():\n",
        "        param.requires_grad = False\n",
        "    Cseg.to(DEVICE)\n",
        "\n",
        "    # --- Optimizers ---\n",
        "    optimizerD = optim.Adam(netD.parameters(), lr=CONFIG['D_LR'], betas=(CONFIG['B1'], CONFIG['B2']))\n",
        "    optimizerG = optim.Adam(netG.parameters(), lr=CONFIG['G_LR'], betas=(CONFIG['B1'], CONFIG['B2']))\n",
        "\n",
        "    # --- Load from Epoch 60 ---\n",
        "    checkpoint_path = f\"{CONFIG['OUTPUT_DIR']}/training_checkpoint.pth\"\n",
        "    netG_weights_path = f\"{CONFIG['OUTPUT_DIR']}/netG_epoch_60.pth\"\n",
        "    netD_weights_path = f\"{CONFIG['OUTPUT_DIR']}/netD_epoch_60.pth\"\n",
        "\n",
        "    if os.path.exists(checkpoint_path) and is_valid_checkpoint(checkpoint_path):\n",
        "        start_epoch, G_losses, D_losses = load_checkpoint(checkpoint_path, netG, netD, optimizerG, optimizerD, DEVICE)\n",
        "        print(f\"Resuming from epoch {start_epoch}\")\n",
        "    elif os.path.exists(netG_weights_path) and os.path.exists(netD_weights_path):\n",
        "        print(\"📦 Loading weights from epoch 60\")\n",
        "        netG.load_state_dict(torch.load(netG_weights_path, map_location=DEVICE))\n",
        "        netD.load_state_dict(torch.load(netD_weights_path, map_location=DEVICE))\n",
        "        start_epoch = 60\n",
        "        G_losses, D_losses = [], []\n",
        "    else:\n",
        "        print(\"🚀 Starting from scratch\")\n",
        "        netG.apply(weights_init)\n",
        "        netD.apply(weights_init)\n",
        "        start_epoch = 0\n",
        "        G_losses, D_losses = [], []\n",
        "\n",
        "    print(f\"✅ Starting from epoch {start_epoch}\")\n",
        "\n",
        "    fixed_noise = torch.randn(64, CONFIG['LATENT_DIM'], 1, 1, device=DEVICE)\n",
        "\n",
        "    # --- Training Variables ---\n",
        "    best_wasserstein = float('inf')\n",
        "    lr_decay_counter = 0\n",
        "\n",
        "    # --- 🏟️ The Grand Training Loop ---\n",
        "    print(\"Starting Training Loop...\")\n",
        "\n",
        "    for epoch in range(start_epoch, CONFIG['EPOCHS']):\n",
        "        try:\n",
        "            epoch_g_losses = []\n",
        "            epoch_d_losses = []\n",
        "            epoch_gp_values = []\n",
        "            epoch_wasserstein_values = []\n",
        "\n",
        "            for i, (real_imgs, labels, races) in enumerate(tqdm(dataloader, desc=f\"Epoch {epoch+1}/{CONFIG['EPOCHS']}\")):\n",
        "                real_imgs, labels, races = real_imgs.to(DEVICE), labels.to(DEVICE), races.to(DEVICE)\n",
        "\n",
        "                # ---------------------------\n",
        "                # Train Discriminator (Critic)\n",
        "                # ---------------------------\n",
        "                netD.zero_grad()\n",
        "\n",
        "                # Generate fake images\n",
        "                noise = torch.randn(real_imgs.size(0), CONFIG['LATENT_DIM'], 1, 1, device=DEVICE)\n",
        "                with torch.no_grad():\n",
        "                    fake_imgs = netG(noise)\n",
        "\n",
        "                # Real images forward pass\n",
        "                critic_real = netD(real_imgs).reshape(-1)\n",
        "                # Fake images forward pass\n",
        "                critic_fake = netD(fake_imgs).reshape(-1)\n",
        "\n",
        "                # Calculate Wasserstein distance\n",
        "                wasserstein_dist = torch.mean(critic_real) - torch.mean(critic_fake)\n",
        "                epoch_wasserstein_values.append(wasserstein_dist.item())\n",
        "\n",
        "                # Gradient penalty\n",
        "                gp = gradient_penalty(netD, real_imgs, fake_imgs, DEVICE)\n",
        "\n",
        "                # Discriminator loss\n",
        "                loss_critic = -wasserstein_dist + CONFIG['LAMBDA_GP'] * gp\n",
        "                loss_critic.backward()\n",
        "\n",
        "                # Gradient clipping\n",
        "                torch.nn.utils.clip_grad_norm_(netD.parameters(), max_norm=1.0)\n",
        "                optimizerD.step()\n",
        "\n",
        "                # Update generator every N_CRITIC steps\n",
        "                if i % CONFIG['N_CRITIC'] == 0:\n",
        "                    # ---------------------\n",
        "                    # Train Generator\n",
        "                    # ---------------------\n",
        "                    netG.zero_grad()\n",
        "\n",
        "                    # Generate fresh fake images\n",
        "                    noise = torch.randn(real_imgs.size(0), CONFIG['LATENT_DIM'], 1, 1, device=DEVICE)\n",
        "                    fake_imgs = netG(noise)\n",
        "\n",
        "                    # 1. Adversarial Loss\n",
        "                    critic_output = netD(fake_imgs)\n",
        "                    adversarial_loss = -torch.mean(critic_output)\n",
        "\n",
        "                    # 2. Fairness Loss\n",
        "                    with torch.no_grad():\n",
        "                        diag_output = Cdiag(fake_imgs)\n",
        "                        diag_preds = torch.sigmoid(diag_output).squeeze()\n",
        "\n",
        "                    fairness_loss = 0.0\n",
        "                    tpr_per_group = []\n",
        "                    for j in range(races.shape[1]):\n",
        "                        group_mask = races[:, j] == 1\n",
        "                        if group_mask.sum() > 0:\n",
        "                            tpr_num = torch.sum(diag_preds[group_mask] * labels[group_mask])\n",
        "                            tpr_den = torch.sum(labels[group_mask]) + 1e-6\n",
        "                            tpr_per_group.append(tpr_num / tpr_den)\n",
        "\n",
        "                    if len(tpr_per_group) > 1:\n",
        "                        tpr_tensor = torch.stack(tpr_per_group)\n",
        "                        if not torch.isnan(tpr_tensor).any():\n",
        "                            fairness_loss = torch.std(tpr_tensor)  # Use standard deviation for better fairness\n",
        "\n",
        "                    # 3. Clinical Loss\n",
        "                    with torch.no_grad():\n",
        "                        seg_masks = torch.sigmoid(Cseg(fake_imgs))\n",
        "                        clinical_loss = torch.mean((1 - seg_masks) ** 2)\n",
        "\n",
        "                    # Total Generator Loss\n",
        "                    loss_gen = (adversarial_loss +\n",
        "                               CONFIG['LAMBDA_FAIR'] * fairness_loss +\n",
        "                               CONFIG['LAMBDA_CLINIC'] * clinical_loss)\n",
        "\n",
        "                    loss_gen.backward()\n",
        "\n",
        "                    # Gradient clipping\n",
        "                    torch.nn.utils.clip_grad_norm_(netG.parameters(), max_norm=1.0)\n",
        "                    optimizerG.step()\n",
        "\n",
        "                    # Store losses for logging\n",
        "                    G_losses.append(loss_gen.item())\n",
        "                    D_losses.append(loss_critic.item())\n",
        "                    epoch_g_losses.append(loss_gen.item())\n",
        "                    epoch_d_losses.append(loss_critic.item())\n",
        "                    epoch_gp_values.append(gp.item())\n",
        "\n",
        "                # --- Logging ---\n",
        "                if i % CONFIG['LOG_FREQ'] == 0:\n",
        "                    avg_g_loss = np.mean(epoch_g_losses[-10:]) if epoch_g_losses else 0\n",
        "                    avg_d_loss = np.mean(epoch_d_losses[-10:]) if epoch_d_losses else 0\n",
        "                    avg_gp = np.mean(epoch_gp_values[-10:]) if epoch_gp_values else 0\n",
        "                    avg_wasserstein = np.mean(epoch_wasserstein_values[-10:]) if epoch_wasserstein_values else 0\n",
        "\n",
        "                    print(f\"[{epoch+1}/{CONFIG['EPOCHS']}][{i}/{len(dataloader)}] \"\n",
        "                          f\"Loss_D: {avg_d_loss:.4f} \"\n",
        "                          f\"Loss_G: {avg_g_loss:.4f} \"\n",
        "                          f\"GP: {avg_gp:.4f} \"\n",
        "                          f\"W_dist: {avg_wasserstein:.4f}\")\n",
        "\n",
        "                # --- Save checkpoint every 20 batches ---\n",
        "                if i % 20 == 0:\n",
        "                    save_checkpoint(epoch, netG, netD, optimizerG, optimizerD, G_losses, D_losses, checkpoint_path)\n",
        "\n",
        "            # --- Validation & Monitoring ---\n",
        "            # Calculate epoch statistics\n",
        "            epoch_avg_g_loss = np.mean(epoch_g_losses) if epoch_g_losses else 0\n",
        "            epoch_avg_d_loss = np.mean(epoch_d_losses) if epoch_d_losses else 0\n",
        "            epoch_avg_wasserstein = np.mean(epoch_wasserstein_values) if epoch_wasserstein_values else 0\n",
        "\n",
        "            print(f\"\\n📊 Epoch {epoch+1} Summary:\")\n",
        "            print(f\"   Avg G Loss: {epoch_avg_g_loss:.4f}\")\n",
        "            print(f\"   Avg D Loss: {epoch_avg_d_loss:.4f}\")\n",
        "            print(f\"   Avg Wasserstein: {epoch_avg_wasserstein:.4f}\")\n",
        "\n",
        "            # Learning rate scheduling\n",
        "            if epoch_avg_wasserstein < best_wasserstein:\n",
        "                best_wasserstein = epoch_avg_wasserstein\n",
        "                lr_decay_counter = 0\n",
        "            else:\n",
        "                lr_decay_counter += 1\n",
        "                if lr_decay_counter >= 5:  # Patience of 5 epochs\n",
        "                    for param_group in optimizerG.param_groups:\n",
        "                        param_group['lr'] *= 0.8\n",
        "                    for param_group in optimizerD.param_groups:\n",
        "                        param_group['lr'] *= 0.8\n",
        "                    lr_decay_counter = 0\n",
        "                    print(f\"📉 Learning rate reduced to: {optimizerG.param_groups[0]['lr']}\")\n",
        "\n",
        "            # --- Save Images ---\n",
        "            if (epoch + 1) % CONFIG['SAVE_IMG_FREQ'] == 0:\n",
        "                with torch.no_grad():\n",
        "                    fake_grid = netG(fixed_noise).detach().cpu()\n",
        "                vutils.save_image(fake_grid, f\"{CONFIG['IMAGE_OUTPUT_DIR']}/epoch_{epoch+1}.png\",\n",
        "                                 normalize=True, nrow=8)\n",
        "                print(f\"🖼️  Saved generated images for epoch {epoch+1}\")\n",
        "\n",
        "            # --- Save model checkpoints ---\n",
        "            if (epoch + 1) % CONFIG.get('SAVE_MODEL_FREQ', 10) == 0:\n",
        "                torch.save(netG.state_dict(), f\"{CONFIG['OUTPUT_DIR']}/netG_epoch_{epoch+1}.pth\")\n",
        "                torch.save(netD.state_dict(), f\"{CONFIG['OUTPUT_DIR']}/netD_epoch_{epoch+1}.pth\")\n",
        "                print(f\"💾 Saved model weights for epoch {epoch+1}\")\n",
        "\n",
        "            # --- Save checkpoint at end of epoch ---\n",
        "            save_checkpoint(epoch, netG, netD, optimizerG, optimizerD, G_losses, D_losses, checkpoint_path)\n",
        "            print(f\"💾 Epoch {epoch+1} completed. Checkpoint saved.\")\n",
        "\n",
        "        except Exception as e:\n",
        "            print(f\"❌ Error occurred during epoch {epoch+1}: {e}\")\n",
        "            emergency_path = f\"{CONFIG['OUTPUT_DIR']}/emergency_checkpoint_epoch_{epoch}.pth\"\n",
        "            save_checkpoint(epoch, netG, netD, optimizerG, optimizerD, G_losses, D_losses, emergency_path)\n",
        "            print(f\"💾 Emergency checkpoint saved: {emergency_path}\")\n",
        "            continue\n",
        "\n",
        "    # Final cleanup and model saving\n",
        "    if os.path.exists(checkpoint_path):\n",
        "        os.remove(checkpoint_path)\n",
        "\n",
        "    torch.save(netG.state_dict(), f\"{CONFIG['OUTPUT_DIR']}/netG_final.pth\")\n",
        "    torch.save(netD.state_dict(), f\"{CONFIG['OUTPUT_DIR']}/netD_final.pth\")\n",
        "    print(\"💾 Saved final models\")\n",
        "    print(\"✅ GAN Training Complete!\")\n",
        "\n",
        "    return netG, netD, G_losses, D_losses\n",
        "\n",
        "# Run training\n",
        "generator, discriminator, G_losses, D_losses = run_gan_training(CONFIG)"
      ]
    }
  ],
  "metadata": {
    "accelerator": "GPU",
    "colab": {
      "gpuType": "T4",
      "provenance": []
    },
    "kernelspec": {
      "display_name": "Python 3",
      "name": "python3"
    },
    "language_info": {
      "name": "python"
    },
    "widgets": {
      "application/vnd.jupyter.widget-state+json": {
        "ffce0cf976bd4e02b76bea00c84077dd": {
          "model_module": "@jupyter-widgets/controls",
          "model_name": "HBoxModel",
          "model_module_version": "1.5.0",
          "state": {
            "_dom_classes": [],
            "_model_module": "@jupyter-widgets/controls",
            "_model_module_version": "1.5.0",
            "_model_name": "HBoxModel",
            "_view_count": null,
            "_view_module": "@jupyter-widgets/controls",
            "_view_module_version": "1.5.0",
            "_view_name": "HBoxView",
            "box_style": "",
            "children": [
              "IPY_MODEL_17dc354ff8c243daaf7af08d1abc74b0",
              "IPY_MODEL_cee1218dbb1c4a13a1d3ea5967199fe8",
              "IPY_MODEL_3f4d8a03e5a54d84946dc2434ce5de7f"
            ],
            "layout": "IPY_MODEL_fa28826a3f5b4a3697518de9ee0d1a5e"
          }
        },
        "17dc354ff8c243daaf7af08d1abc74b0": {
          "model_module": "@jupyter-widgets/controls",
          "model_name": "HTMLModel",
          "model_module_version": "1.5.0",
          "state": {
            "_dom_classes": [],
            "_model_module": "@jupyter-widgets/controls",
            "_model_module_version": "1.5.0",
            "_model_name": "HTMLModel",
            "_view_count": null,
            "_view_module": "@jupyter-widgets/controls",
            "_view_module_version": "1.5.0",
            "_view_name": "HTMLView",
            "description": "",
            "description_tooltip": null,
            "layout": "IPY_MODEL_ea26bb0605fb43cba09d46d0e5e1af7e",
            "placeholder": "​",
            "style": "IPY_MODEL_29adf127c3444564a7ed3292e08837dd",
            "value": "config.json: 100%"
          }
        },
        "cee1218dbb1c4a13a1d3ea5967199fe8": {
          "model_module": "@jupyter-widgets/controls",
          "model_name": "FloatProgressModel",
          "model_module_version": "1.5.0",
          "state": {
            "_dom_classes": [],
            "_model_module": "@jupyter-widgets/controls",
            "_model_module_version": "1.5.0",
            "_model_name": "FloatProgressModel",
            "_view_count": null,
            "_view_module": "@jupyter-widgets/controls",
            "_view_module_version": "1.5.0",
            "_view_name": "ProgressView",
            "bar_style": "success",
            "description": "",
            "description_tooltip": null,
            "layout": "IPY_MODEL_f2161ad7f1754f90af7da67ac7bb8ce2",
            "max": 156,
            "min": 0,
            "orientation": "horizontal",
            "style": "IPY_MODEL_9e0f3b0bae19473584da5f6b1b9e52ea",
            "value": 156
          }
        },
        "3f4d8a03e5a54d84946dc2434ce5de7f": {
          "model_module": "@jupyter-widgets/controls",
          "model_name": "HTMLModel",
          "model_module_version": "1.5.0",
          "state": {
            "_dom_classes": [],
            "_model_module": "@jupyter-widgets/controls",
            "_model_module_version": "1.5.0",
            "_model_name": "HTMLModel",
            "_view_count": null,
            "_view_module": "@jupyter-widgets/controls",
            "_view_module_version": "1.5.0",
            "_view_name": "HTMLView",
            "description": "",
            "description_tooltip": null,
            "layout": "IPY_MODEL_54165be710074517ab7cda17e337df4c",
            "placeholder": "​",
            "style": "IPY_MODEL_b3245ed90df8440182c8b51cb112f826",
            "value": " 156/156 [00:00&lt;00:00, 9.01kB/s]"
          }
        },
        "fa28826a3f5b4a3697518de9ee0d1a5e": {
          "model_module": "@jupyter-widgets/base",
          "model_name": "LayoutModel",
          "model_module_version": "1.2.0",
          "state": {
            "_model_module": "@jupyter-widgets/base",
            "_model_module_version": "1.2.0",
            "_model_name": "LayoutModel",
            "_view_count": null,
            "_view_module": "@jupyter-widgets/base",
            "_view_module_version": "1.2.0",
            "_view_name": "LayoutView",
            "align_content": null,
            "align_items": null,
            "align_self": null,
            "border": null,
            "bottom": null,
            "display": null,
            "flex": null,
            "flex_flow": null,
            "grid_area": null,
            "grid_auto_columns": null,
            "grid_auto_flow": null,
            "grid_auto_rows": null,
            "grid_column": null,
            "grid_gap": null,
            "grid_row": null,
            "grid_template_areas": null,
            "grid_template_columns": null,
            "grid_template_rows": null,
            "height": null,
            "justify_content": null,
            "justify_items": null,
            "left": null,
            "margin": null,
            "max_height": null,
            "max_width": null,
            "min_height": null,
            "min_width": null,
            "object_fit": null,
            "object_position": null,
            "order": null,
            "overflow": null,
            "overflow_x": null,
            "overflow_y": null,
            "padding": null,
            "right": null,
            "top": null,
            "visibility": null,
            "width": null
          }
        },
        "ea26bb0605fb43cba09d46d0e5e1af7e": {
          "model_module": "@jupyter-widgets/base",
          "model_name": "LayoutModel",
          "model_module_version": "1.2.0",
          "state": {
            "_model_module": "@jupyter-widgets/base",
            "_model_module_version": "1.2.0",
            "_model_name": "LayoutModel",
            "_view_count": null,
            "_view_module": "@jupyter-widgets/base",
            "_view_module_version": "1.2.0",
            "_view_name": "LayoutView",
            "align_content": null,
            "align_items": null,
            "align_self": null,
            "border": null,
            "bottom": null,
            "display": null,
            "flex": null,
            "flex_flow": null,
            "grid_area": null,
            "grid_auto_columns": null,
            "grid_auto_flow": null,
            "grid_auto_rows": null,
            "grid_column": null,
            "grid_gap": null,
            "grid_row": null,
            "grid_template_areas": null,
            "grid_template_columns": null,
            "grid_template_rows": null,
            "height": null,
            "justify_content": null,
            "justify_items": null,
            "left": null,
            "margin": null,
            "max_height": null,
            "max_width": null,
            "min_height": null,
            "min_width": null,
            "object_fit": null,
            "object_position": null,
            "order": null,
            "overflow": null,
            "overflow_x": null,
            "overflow_y": null,
            "padding": null,
            "right": null,
            "top": null,
            "visibility": null,
            "width": null
          }
        },
        "29adf127c3444564a7ed3292e08837dd": {
          "model_module": "@jupyter-widgets/controls",
          "model_name": "DescriptionStyleModel",
          "model_module_version": "1.5.0",
          "state": {
            "_model_module": "@jupyter-widgets/controls",
            "_model_module_version": "1.5.0",
            "_model_name": "DescriptionStyleModel",
            "_view_count": null,
            "_view_module": "@jupyter-widgets/base",
            "_view_module_version": "1.2.0",
            "_view_name": "StyleView",
            "description_width": ""
          }
        },
        "f2161ad7f1754f90af7da67ac7bb8ce2": {
          "model_module": "@jupyter-widgets/base",
          "model_name": "LayoutModel",
          "model_module_version": "1.2.0",
          "state": {
            "_model_module": "@jupyter-widgets/base",
            "_model_module_version": "1.2.0",
            "_model_name": "LayoutModel",
            "_view_count": null,
            "_view_module": "@jupyter-widgets/base",
            "_view_module_version": "1.2.0",
            "_view_name": "LayoutView",
            "align_content": null,
            "align_items": null,
            "align_self": null,
            "border": null,
            "bottom": null,
            "display": null,
            "flex": null,
            "flex_flow": null,
            "grid_area": null,
            "grid_auto_columns": null,
            "grid_auto_flow": null,
            "grid_auto_rows": null,
            "grid_column": null,
            "grid_gap": null,
            "grid_row": null,
            "grid_template_areas": null,
            "grid_template_columns": null,
            "grid_template_rows": null,
            "height": null,
            "justify_content": null,
            "justify_items": null,
            "left": null,
            "margin": null,
            "max_height": null,
            "max_width": null,
            "min_height": null,
            "min_width": null,
            "object_fit": null,
            "object_position": null,
            "order": null,
            "overflow": null,
            "overflow_x": null,
            "overflow_y": null,
            "padding": null,
            "right": null,
            "top": null,
            "visibility": null,
            "width": null
          }
        },
        "9e0f3b0bae19473584da5f6b1b9e52ea": {
          "model_module": "@jupyter-widgets/controls",
          "model_name": "ProgressStyleModel",
          "model_module_version": "1.5.0",
          "state": {
            "_model_module": "@jupyter-widgets/controls",
            "_model_module_version": "1.5.0",
            "_model_name": "ProgressStyleModel",
            "_view_count": null,
            "_view_module": "@jupyter-widgets/base",
            "_view_module_version": "1.2.0",
            "_view_name": "StyleView",
            "bar_color": null,
            "description_width": ""
          }
        },
        "54165be710074517ab7cda17e337df4c": {
          "model_module": "@jupyter-widgets/base",
          "model_name": "LayoutModel",
          "model_module_version": "1.2.0",
          "state": {
            "_model_module": "@jupyter-widgets/base",
            "_model_module_version": "1.2.0",
            "_model_name": "LayoutModel",
            "_view_count": null,
            "_view_module": "@jupyter-widgets/base",
            "_view_module_version": "1.2.0",
            "_view_name": "LayoutView",
            "align_content": null,
            "align_items": null,
            "align_self": null,
            "border": null,
            "bottom": null,
            "display": null,
            "flex": null,
            "flex_flow": null,
            "grid_area": null,
            "grid_auto_columns": null,
            "grid_auto_flow": null,
            "grid_auto_rows": null,
            "grid_column": null,
            "grid_gap": null,
            "grid_row": null,
            "grid_template_areas": null,
            "grid_template_columns": null,
            "grid_template_rows": null,
            "height": null,
            "justify_content": null,
            "justify_items": null,
            "left": null,
            "margin": null,
            "max_height": null,
            "max_width": null,
            "min_height": null,
            "min_width": null,
            "object_fit": null,
            "object_position": null,
            "order": null,
            "overflow": null,
            "overflow_x": null,
            "overflow_y": null,
            "padding": null,
            "right": null,
            "top": null,
            "visibility": null,
            "width": null
          }
        },
        "b3245ed90df8440182c8b51cb112f826": {
          "model_module": "@jupyter-widgets/controls",
          "model_name": "DescriptionStyleModel",
          "model_module_version": "1.5.0",
          "state": {
            "_model_module": "@jupyter-widgets/controls",
            "_model_module_version": "1.5.0",
            "_model_name": "DescriptionStyleModel",
            "_view_count": null,
            "_view_module": "@jupyter-widgets/base",
            "_view_module_version": "1.2.0",
            "_view_name": "StyleView",
            "description_width": ""
          }
        },
        "57a34adb01d545e8ab0053e3c465beed": {
          "model_module": "@jupyter-widgets/controls",
          "model_name": "HBoxModel",
          "model_module_version": "1.5.0",
          "state": {
            "_dom_classes": [],
            "_model_module": "@jupyter-widgets/controls",
            "_model_module_version": "1.5.0",
            "_model_name": "HBoxModel",
            "_view_count": null,
            "_view_module": "@jupyter-widgets/controls",
            "_view_module_version": "1.5.0",
            "_view_name": "HBoxView",
            "box_style": "",
            "children": [
              "IPY_MODEL_87bc348364c04479a77fd6dcf63f3aab",
              "IPY_MODEL_541862720a1441a9ab99729a91f0784a",
              "IPY_MODEL_0e138ba8de3d4df297b2edc1f8ee882c"
            ],
            "layout": "IPY_MODEL_2f703c1526f44260bccb405c194b25dc"
          }
        },
        "87bc348364c04479a77fd6dcf63f3aab": {
          "model_module": "@jupyter-widgets/controls",
          "model_name": "HTMLModel",
          "model_module_version": "1.5.0",
          "state": {
            "_dom_classes": [],
            "_model_module": "@jupyter-widgets/controls",
            "_model_module_version": "1.5.0",
            "_model_name": "HTMLModel",
            "_view_count": null,
            "_view_module": "@jupyter-widgets/controls",
            "_view_module_version": "1.5.0",
            "_view_name": "HTMLView",
            "description": "",
            "description_tooltip": null,
            "layout": "IPY_MODEL_bf1de2e33f8e426b884cbda77800f449",
            "placeholder": "​",
            "style": "IPY_MODEL_352e3588e59044d29b1d0472e25c2b41",
            "value": "model.safetensors: 100%"
          }
        },
        "541862720a1441a9ab99729a91f0784a": {
          "model_module": "@jupyter-widgets/controls",
          "model_name": "FloatProgressModel",
          "model_module_version": "1.5.0",
          "state": {
            "_dom_classes": [],
            "_model_module": "@jupyter-widgets/controls",
            "_model_module_version": "1.5.0",
            "_model_name": "FloatProgressModel",
            "_view_count": null,
            "_view_module": "@jupyter-widgets/controls",
            "_view_module_version": "1.5.0",
            "_view_name": "ProgressView",
            "bar_style": "success",
            "description": "",
            "description_tooltip": null,
            "layout": "IPY_MODEL_ceb7126a44924b0a87115f8b27251909",
            "max": 87275112,
            "min": 0,
            "orientation": "horizontal",
            "style": "IPY_MODEL_a29227dd6b5e4c309ef0abcfc752951b",
            "value": 87275112
          }
        },
        "0e138ba8de3d4df297b2edc1f8ee882c": {
          "model_module": "@jupyter-widgets/controls",
          "model_name": "HTMLModel",
          "model_module_version": "1.5.0",
          "state": {
            "_dom_classes": [],
            "_model_module": "@jupyter-widgets/controls",
            "_model_module_version": "1.5.0",
            "_model_name": "HTMLModel",
            "_view_count": null,
            "_view_module": "@jupyter-widgets/controls",
            "_view_module_version": "1.5.0",
            "_view_name": "HTMLView",
            "description": "",
            "description_tooltip": null,
            "layout": "IPY_MODEL_a1458d5486634726811734096e4bd57f",
            "placeholder": "​",
            "style": "IPY_MODEL_ae0da6e2858f410da111ced2ddef1d4c",
            "value": " 87.3M/87.3M [00:01&lt;00:00, 83.7MB/s]"
          }
        },
        "2f703c1526f44260bccb405c194b25dc": {
          "model_module": "@jupyter-widgets/base",
          "model_name": "LayoutModel",
          "model_module_version": "1.2.0",
          "state": {
            "_model_module": "@jupyter-widgets/base",
            "_model_module_version": "1.2.0",
            "_model_name": "LayoutModel",
            "_view_count": null,
            "_view_module": "@jupyter-widgets/base",
            "_view_module_version": "1.2.0",
            "_view_name": "LayoutView",
            "align_content": null,
            "align_items": null,
            "align_self": null,
            "border": null,
            "bottom": null,
            "display": null,
            "flex": null,
            "flex_flow": null,
            "grid_area": null,
            "grid_auto_columns": null,
            "grid_auto_flow": null,
            "grid_auto_rows": null,
            "grid_column": null,
            "grid_gap": null,
            "grid_row": null,
            "grid_template_areas": null,
            "grid_template_columns": null,
            "grid_template_rows": null,
            "height": null,
            "justify_content": null,
            "justify_items": null,
            "left": null,
            "margin": null,
            "max_height": null,
            "max_width": null,
            "min_height": null,
            "min_width": null,
            "object_fit": null,
            "object_position": null,
            "order": null,
            "overflow": null,
            "overflow_x": null,
            "overflow_y": null,
            "padding": null,
            "right": null,
            "top": null,
            "visibility": null,
            "width": null
          }
        },
        "bf1de2e33f8e426b884cbda77800f449": {
          "model_module": "@jupyter-widgets/base",
          "model_name": "LayoutModel",
          "model_module_version": "1.2.0",
          "state": {
            "_model_module": "@jupyter-widgets/base",
            "_model_module_version": "1.2.0",
            "_model_name": "LayoutModel",
            "_view_count": null,
            "_view_module": "@jupyter-widgets/base",
            "_view_module_version": "1.2.0",
            "_view_name": "LayoutView",
            "align_content": null,
            "align_items": null,
            "align_self": null,
            "border": null,
            "bottom": null,
            "display": null,
            "flex": null,
            "flex_flow": null,
            "grid_area": null,
            "grid_auto_columns": null,
            "grid_auto_flow": null,
            "grid_auto_rows": null,
            "grid_column": null,
            "grid_gap": null,
            "grid_row": null,
            "grid_template_areas": null,
            "grid_template_columns": null,
            "grid_template_rows": null,
            "height": null,
            "justify_content": null,
            "justify_items": null,
            "left": null,
            "margin": null,
            "max_height": null,
            "max_width": null,
            "min_height": null,
            "min_width": null,
            "object_fit": null,
            "object_position": null,
            "order": null,
            "overflow": null,
            "overflow_x": null,
            "overflow_y": null,
            "padding": null,
            "right": null,
            "top": null,
            "visibility": null,
            "width": null
          }
        },
        "352e3588e59044d29b1d0472e25c2b41": {
          "model_module": "@jupyter-widgets/controls",
          "model_name": "DescriptionStyleModel",
          "model_module_version": "1.5.0",
          "state": {
            "_model_module": "@jupyter-widgets/controls",
            "_model_module_version": "1.5.0",
            "_model_name": "DescriptionStyleModel",
            "_view_count": null,
            "_view_module": "@jupyter-widgets/base",
            "_view_module_version": "1.2.0",
            "_view_name": "StyleView",
            "description_width": ""
          }
        },
        "ceb7126a44924b0a87115f8b27251909": {
          "model_module": "@jupyter-widgets/base",
          "model_name": "LayoutModel",
          "model_module_version": "1.2.0",
          "state": {
            "_model_module": "@jupyter-widgets/base",
            "_model_module_version": "1.2.0",
            "_model_name": "LayoutModel",
            "_view_count": null,
            "_view_module": "@jupyter-widgets/base",
            "_view_module_version": "1.2.0",
            "_view_name": "LayoutView",
            "align_content": null,
            "align_items": null,
            "align_self": null,
            "border": null,
            "bottom": null,
            "display": null,
            "flex": null,
            "flex_flow": null,
            "grid_area": null,
            "grid_auto_columns": null,
            "grid_auto_flow": null,
            "grid_auto_rows": null,
            "grid_column": null,
            "grid_gap": null,
            "grid_row": null,
            "grid_template_areas": null,
            "grid_template_columns": null,
            "grid_template_rows": null,
            "height": null,
            "justify_content": null,
            "justify_items": null,
            "left": null,
            "margin": null,
            "max_height": null,
            "max_width": null,
            "min_height": null,
            "min_width": null,
            "object_fit": null,
            "object_position": null,
            "order": null,
            "overflow": null,
            "overflow_x": null,
            "overflow_y": null,
            "padding": null,
            "right": null,
            "top": null,
            "visibility": null,
            "width": null
          }
        },
        "a29227dd6b5e4c309ef0abcfc752951b": {
          "model_module": "@jupyter-widgets/controls",
          "model_name": "ProgressStyleModel",
          "model_module_version": "1.5.0",
          "state": {
            "_model_module": "@jupyter-widgets/controls",
            "_model_module_version": "1.5.0",
            "_model_name": "ProgressStyleModel",
            "_view_count": null,
            "_view_module": "@jupyter-widgets/base",
            "_view_module_version": "1.2.0",
            "_view_name": "StyleView",
            "bar_color": null,
            "description_width": ""
          }
        },
        "a1458d5486634726811734096e4bd57f": {
          "model_module": "@jupyter-widgets/base",
          "model_name": "LayoutModel",
          "model_module_version": "1.2.0",
          "state": {
            "_model_module": "@jupyter-widgets/base",
            "_model_module_version": "1.2.0",
            "_model_name": "LayoutModel",
            "_view_count": null,
            "_view_module": "@jupyter-widgets/base",
            "_view_module_version": "1.2.0",
            "_view_name": "LayoutView",
            "align_content": null,
            "align_items": null,
            "align_self": null,
            "border": null,
            "bottom": null,
            "display": null,
            "flex": null,
            "flex_flow": null,
            "grid_area": null,
            "grid_auto_columns": null,
            "grid_auto_flow": null,
            "grid_auto_rows": null,
            "grid_column": null,
            "grid_gap": null,
            "grid_row": null,
            "grid_template_areas": null,
            "grid_template_columns": null,
            "grid_template_rows": null,
            "height": null,
            "justify_content": null,
            "justify_items": null,
            "left": null,
            "margin": null,
            "max_height": null,
            "max_width": null,
            "min_height": null,
            "min_width": null,
            "object_fit": null,
            "object_position": null,
            "order": null,
            "overflow": null,
            "overflow_x": null,
            "overflow_y": null,
            "padding": null,
            "right": null,
            "top": null,
            "visibility": null,
            "width": null
          }
        },
        "ae0da6e2858f410da111ced2ddef1d4c": {
          "model_module": "@jupyter-widgets/controls",
          "model_name": "DescriptionStyleModel",
          "model_module_version": "1.5.0",
          "state": {
            "_model_module": "@jupyter-widgets/controls",
            "_model_module_version": "1.5.0",
            "_model_name": "DescriptionStyleModel",
            "_view_count": null,
            "_view_module": "@jupyter-widgets/base",
            "_view_module_version": "1.2.0",
            "_view_name": "StyleView",
            "description_width": ""
          }
        }
      }
    }
  },
  "nbformat": 4,
  "nbformat_minor": 0
}