{
  "nbformat": 4,
  "nbformat_minor": 0,
  "metadata": {
    "colab": {
      "provenance": [],
      "gpuType": "T4"
    },
    "kernelspec": {
      "name": "python3",
      "display_name": "Python 3"
    },
    "language_info": {
      "name": "python"
    },
    "accelerator": "GPU"
  },
  "cells": [
    {
      "cell_type": "code",
      "execution_count": 11,
      "metadata": {
        "id": "YrhYk2bxB_Yx",
        "colab": {
          "base_uri": "https://localhost:8080/"
        },
        "outputId": "3a79f262-a03b-4cdf-ae6d-fb429c883afb"
      },
      "outputs": [
        {
          "output_type": "stream",
          "name": "stdout",
          "text": [
            "Drive already mounted at /content/drive; to attempt to forcibly remount, call drive.mount(\"/content/drive\", force_remount=True).\n"
          ]
        }
      ],
      "source": [
        "from google.colab import drive\n",
        "drive.mount('/content/drive')"
      ]
    },
    {
      "cell_type": "code",
      "source": [
        "import os\n",
        "\n",
        "# Navigate to your project directory in Google Drive\n",
        "%cd /content/drive/MyDrive/CAF-GAN/\n",
        "\n",
        "# Unzip the image files (this might take a few minutes)\n",
        "# The -q makes the output quiet, -n prevents unzipping if already done\n",
        "!unzip -q -n mimic-cxr-jpg-2.0.0.zip\n",
        "\n",
        "print(\"✅ Workspace ready and images unzipped.\")"
      ],
      "metadata": {
        "colab": {
          "base_uri": "https://localhost:8080/"
        },
        "id": "xaXxPXf_CZ0A",
        "outputId": "63ec0edf-084a-4b62-ff0b-af0feef83c57"
      },
      "execution_count": 12,
      "outputs": [
        {
          "output_type": "stream",
          "name": "stdout",
          "text": [
            "/content/drive/MyDrive/CAF-GAN\n",
            "✅ Workspace ready and images unzipped.\n"
          ]
        }
      ]
    },
    {
      "cell_type": "code",
      "source": [
        "!pip install pyyaml pandas scikit-learn albumentations segmentation-models-pytorch -q"
      ],
      "metadata": {
        "id": "d8VZ0P_1C4Kq"
      },
      "execution_count": 13,
      "outputs": []
    },
    {
      "cell_type": "code",
      "source": [
        "import os\n",
        "import torch\n",
        "import numpy as np\n",
        "import pandas as pd\n",
        "from torch.utils.data import Dataset\n",
        "from PIL import Image\n",
        "\n",
        "# This single dataset file will serve both critic training scripts.\n",
        "\n",
        "class MIMICCXRClassifierDataset(Dataset):\n",
        "    \"\"\"\n",
        "    Dataset for the Cdiag (classification) task.\n",
        "    - Loads a JPG image.\n",
        "    - Converts it to RGB (as required by ResNet).\n",
        "    - Returns the image and its corresponding Pneumonia label.\n",
        "    \"\"\"\n",
        "    def __init__(self, df, image_dir, transform=None):\n",
        "        self.df = df\n",
        "        self.image_dir = image_dir\n",
        "        self.transform = transform\n",
        "\n",
        "    def __len__(self):\n",
        "        return len(self.df)\n",
        "\n",
        "    def __getitem__(self, idx):\n",
        "        row = self.df.iloc[idx]\n",
        "        subject_id = str(row['subject_id'])\n",
        "        study_id = str(row['study_id'])\n",
        "        dicom_id = row['dicom_id']\n",
        "\n",
        "        # Construct the path to the JPG image\n",
        "        image_path = os.path.join(\n",
        "            self.image_dir, f'p{subject_id[:2]}', f'p{subject_id}', f's{study_id}', f'{dicom_id}.jpg'\n",
        "        )\n",
        "\n",
        "        # Load image and convert to a numpy array in RGB format\n",
        "        image = Image.open(image_path).convert(\"RGB\")\n",
        "        image = np.array(image)\n",
        "\n",
        "        # Apply augmentations\n",
        "        if self.transform:\n",
        "            augmented = self.transform(image=image)\n",
        "            image = augmented['image']\n",
        "\n",
        "        # Get the label\n",
        "        label = torch.tensor(row['Pneumonia'], dtype=torch.float32)\n",
        "\n",
        "        return image, label.unsqueeze(0)\n",
        "\n",
        "\n",
        "class MIMICXRSegmentationDataset(Dataset):\n",
        "    \"\"\"\n",
        "    Dataset for the Cseg (segmentation) task.\n",
        "    - Loads a JPG image (as 3-channel RGB). <--- UPDATED\n",
        "    - Loads its corresponding pre-generated PNG mask.\n",
        "    - Returns both the image and the mask.\n",
        "    \"\"\"\n",
        "    def __init__(self, df, image_dir, mask_dir, transform=None):\n",
        "        self.df = df\n",
        "        self.image_dir = image_dir\n",
        "        self.mask_dir = mask_dir\n",
        "        self.transform = transform\n",
        "\n",
        "    def __len__(self):\n",
        "        return len(self.df)\n",
        "\n",
        "    def __getitem__(self, idx):\n",
        "        row = self.df.iloc[idx]\n",
        "        subject_id = str(row['subject_id'])\n",
        "        study_id = str(row['study_id'])\n",
        "        dicom_id = row['dicom_id']\n",
        "\n",
        "        image_path = os.path.join(\n",
        "            self.image_dir, f'p{subject_id[:2]}', f'p{subject_id}', f's{study_id}', f'{dicom_id}.jpg'\n",
        "        )\n",
        "        mask_path = os.path.join(self.mask_dir, f\"{dicom_id}.png\")\n",
        "\n",
        "        # --- KEY CHANGE ---\n",
        "        # Load image and convert to RGB to match the model's expected input channels.\n",
        "        image = np.array(Image.open(image_path).convert(\"RGB\"), dtype=np.float32)\n",
        "\n",
        "        # Load mask as grayscale\n",
        "        mask = np.array(Image.open(mask_path).convert(\"L\"), dtype=np.float32)\n",
        "\n",
        "        # RESIZE THE IMAGE to match the mask size (256×256) BEFORE augmentation\n",
        "        image = np.array(Image.fromarray(image.astype(np.uint8)).resize((256, 256), Image.BILINEAR))\n",
        "\n",
        "        # Normalize mask values from [0, 255] to [0.0, 1.0]\n",
        "        mask[mask == 255.0] = 1.0\n",
        "\n",
        "        # Apply augmentations (Albumentations will now see matching input sizes from the Resize transform)\n",
        "        if self.transform:\n",
        "            augmented = self.transform(image=image, mask=mask)\n",
        "            image = augmented['image']\n",
        "            mask = augmented['mask']\n",
        "\n",
        "        # Add a channel dimension for the mask for consistency\n",
        "        return image, mask.unsqueeze(0)"
      ],
      "metadata": {
        "id": "rDVWP3_8C-gw"
      },
      "execution_count": 27,
      "outputs": []
    },
    {
      "cell_type": "code",
      "source": [
        "import yaml\n",
        "\n",
        "# Notice the paths now point to our Colab workspace in Google Drive\n",
        "config_yaml = \"\"\"\n",
        "# Configuration for training the Cseg (Lung Segmenter) model\n",
        "\n",
        "# --- Data Paths ---\n",
        "IMAGE_DIR: \"/content/drive/MyDrive/CAF-GAN/mimic-cxr-jpg-2.0.0/files/\"\n",
        "MASK_DIR: \"/content/drive/MyDrive/CAF-GAN/data/masks/\" # <-- Path to the masks we generated\n",
        "TRAIN_CSV_PATH: \"/content/drive/MyDrive/CAF-GAN/data/splits/train.csv\"\n",
        "VAL_CSV_PATH: \"/content/drive/MyDrive/CAF-GAN/data/splits/val.csv\"\n",
        "\n",
        "# --- Output Paths ---\n",
        "OUTPUT_DIR: \"/content/drive/MyDrive/CAF-GAN/outputs/cseg/\" # <-- Updated output directory\n",
        "MODEL_NAME: \"best_cseg_colab.pth\" # <-- Updated model name\n",
        "\n",
        "# --- Model & Training Hyperparameters ---\n",
        "IMG_SIZE: 256\n",
        "BATCH_SIZE: 16 # Segmentation is more memory intensive, so we use a smaller batch size\n",
        "EPOCHS: 25     # Segmentation often benefits from more epochs\n",
        "LEARNING_RATE: 0.0001\n",
        "\n",
        "# --- System ---\n",
        "DEVICE: \"cuda\"\n",
        "NUM_WORKERS: 2\n",
        "\"\"\"\n",
        "\n",
        "CONFIG = yaml.safe_load(config_yaml)\n",
        "print(\"Configuration loaded for Cseg training:\")\n",
        "print(CONFIG)"
      ],
      "metadata": {
        "id": "87Yg_DB4DIR3",
        "colab": {
          "base_uri": "https://localhost:8080/"
        },
        "outputId": "6bd39164-db16-4ec6-80e3-a2166ae35db9"
      },
      "execution_count": 28,
      "outputs": [
        {
          "output_type": "stream",
          "name": "stdout",
          "text": [
            "Configuration loaded for Cseg training:\n",
            "{'IMAGE_DIR': '/content/drive/MyDrive/CAF-GAN/mimic-cxr-jpg-2.0.0/files/', 'MASK_DIR': '/content/drive/MyDrive/CAF-GAN/data/masks/', 'TRAIN_CSV_PATH': '/content/drive/MyDrive/CAF-GAN/data/splits/train.csv', 'VAL_CSV_PATH': '/content/drive/MyDrive/CAF-GAN/data/splits/val.csv', 'OUTPUT_DIR': '/content/drive/MyDrive/CAF-GAN/outputs/cseg/', 'MODEL_NAME': 'best_cseg_colab.pth', 'IMG_SIZE': 256, 'BATCH_SIZE': 16, 'EPOCHS': 25, 'LEARNING_RATE': 0.0001, 'DEVICE': 'cuda', 'NUM_WORKERS': 2}\n"
          ]
        }
      ]
    },
    {
      "cell_type": "code",
      "source": [
        "import torch\n",
        "import torch.nn as nn\n",
        "import torch.optim as optim\n",
        "from torch.utils.data import DataLoader, Dataset\n",
        "import pandas as pd\n",
        "from tqdm import tqdm\n",
        "import os\n",
        "import albumentations as A\n",
        "from albumentations.pytorch import ToTensorV2\n",
        "from PIL import Image\n",
        "import numpy as np\n",
        "import segmentation_models_pytorch as smp\n",
        "\n",
        "# --- ⚙️ Setup ---\n",
        "# The CONFIG dictionary is already loaded from the previous cell\n",
        "DEVICE = 'cuda' if torch.cuda.is_available() else 'cpu'\n",
        "os.makedirs(CONFIG['OUTPUT_DIR'], exist_ok=True)\n",
        "print(f\"Using device: {DEVICE}\")\n",
        "\n",
        "# --- 🏋️‍♀️ Loss, Metrics, and Training Functions ---\n",
        "# (DiceBCELoss, dice_score, train_one_epoch, validate functions remain the same as before)\n",
        "class DiceBCELoss(nn.Module):\n",
        "    def __init__(self, weight=None, size_average=True):\n",
        "        super(DiceBCELoss, self).__init__()\n",
        "    def forward(self, inputs, targets, smooth=1):\n",
        "        inputs = torch.sigmoid(inputs)\n",
        "        inputs = inputs.view(-1)\n",
        "        targets = targets.view(-1)\n",
        "        intersection = (inputs * targets).sum()\n",
        "        dice_loss = 1 - (2.*intersection + smooth)/(inputs.sum() + targets.sum() + smooth)\n",
        "        BCE = nn.BCELoss()(inputs, targets)\n",
        "        return BCE + dice_loss\n",
        "\n",
        "def dice_score(preds, targets, smooth=1e-6):\n",
        "    preds = torch.sigmoid(preds) > 0.5\n",
        "    preds = preds.float().view(-1)\n",
        "    targets = targets.view(-1)\n",
        "    intersection = (preds * targets).sum()\n",
        "    return (2. * intersection + smooth) / (preds.sum() + targets.sum() + smooth)\n",
        "\n",
        "def train_one_epoch(model, dataloader, optimizer, criterion, device):\n",
        "    model.train()\n",
        "    running_loss = 0.0\n",
        "    for images, masks in tqdm(dataloader, desc=\"Training\"):\n",
        "        images, masks = images.to(device), masks.to(device)\n",
        "        optimizer.zero_grad()\n",
        "        outputs = model(images)\n",
        "        loss = criterion(outputs, masks)\n",
        "        loss.backward()\n",
        "        optimizer.step()\n",
        "        running_loss += loss.item() * images.size(0)\n",
        "    return running_loss / len(dataloader.dataset)\n",
        "\n",
        "def validate(model, dataloader, criterion, device):\n",
        "    model.eval()\n",
        "    running_loss = 0.0\n",
        "    total_dice_score = 0.0\n",
        "    with torch.no_grad():\n",
        "        for images, masks in tqdm(dataloader, desc=\"Validating\"):\n",
        "            images, masks = images.to(device), masks.to(device)\n",
        "            outputs = model(images)\n",
        "            loss = criterion(outputs, masks)\n",
        "            running_loss += loss.item() * images.size(0)\n",
        "            total_dice_score += dice_score(outputs, masks).item()\n",
        "    val_loss = running_loss / len(dataloader.dataset)\n",
        "    val_dice = total_dice_score / len(dataloader)\n",
        "    return val_loss, val_dice\n",
        "\n",
        "# --- 🚀 Main Execution ---\n",
        "def run_training():\n",
        "    # --- Data Loading & Augmentation ---\n",
        "    # --- KEY CHANGE ---\n",
        "    # The transform now resizes both image and mask to the same size FIRST.\n",
        "    # It also uses ImageNet normalization for the 3-channel input image.\n",
        "    transform = A.Compose([\n",
        "        A.Resize(CONFIG['IMG_SIZE'], CONFIG['IMG_SIZE']), # This fixes the size mismatch!\n",
        "        A.HorizontalFlip(p=0.5),\n",
        "        A.Rotate(limit=10, p=0.5),\n",
        "        A.Normalize(mean=[0.485, 0.456, 0.406], std=[0.229, 0.224, 0.225]), # ImageNet stats for RGB\n",
        "        ToTensorV2(),\n",
        "    ])\n",
        "\n",
        "    train_df = pd.read_csv(CONFIG['TRAIN_CSV_PATH'])\n",
        "    val_df = pd.read_csv(CONFIG['VAL_CSV_PATH'])\n",
        "\n",
        "    train_dataset = MIMICXRSegmentationDataset(train_df, CONFIG['IMAGE_DIR'], CONFIG['MASK_DIR'], transform=transform)\n",
        "    val_dataset = MIMICXRSegmentationDataset(val_df, CONFIG['IMAGE_DIR'], CONFIG['MASK_DIR'], transform=transform)\n",
        "\n",
        "    train_loader = DataLoader(train_dataset, batch_size=CONFIG['BATCH_SIZE'], shuffle=True, num_workers=CONFIG['NUM_WORKERS'])\n",
        "    val_loader = DataLoader(val_dataset, batch_size=CONFIG['BATCH_SIZE'], shuffle=False, num_workers=CONFIG['NUM_WORKERS'])\n",
        "\n",
        "    # --- Model Setup ---\n",
        "    # --- KEY CHANGE ---\n",
        "    # The model MUST be initialized with in_channels=3 to match the data.\n",
        "    model = smp.Unet(encoder_name=\"resnet34\", encoder_weights=\"imagenet\", in_channels=3, classes=1)\n",
        "    model.to(DEVICE)\n",
        "\n",
        "    criterion = DiceBCELoss()\n",
        "    optimizer = optim.Adam(model.parameters(), lr=CONFIG['LEARNING_RATE'])\n",
        "\n",
        "    best_val_dice = 0.0\n",
        "\n",
        "    # --- Training Loop ---\n",
        "    for epoch in range(CONFIG['EPOCHS']):\n",
        "        print(f\"\\n--- Epoch {epoch+1}/{CONFIG['EPOCHS']} ---\")\n",
        "        train_loss = train_one_epoch(model, train_loader, optimizer, criterion, DEVICE)\n",
        "        val_loss, val_dice = validate(model, val_loader, criterion, DEVICE)\n",
        "\n",
        "        print(f\"Train Loss: {train_loss:.4f} | Val Loss: {val_loss:.4f} | Val Dice Score: {val_dice:.4f}\")\n",
        "\n",
        "        if val_dice > best_val_dice:\n",
        "            best_val_dice = val_dice\n",
        "            model_path = os.path.join(CONFIG['OUTPUT_DIR'], CONFIG['MODEL_NAME'])\n",
        "            torch.save(model.state_dict(), model_path)\n",
        "            print(f\"✨ New best model saved to {model_path} (Dice: {val_dice:.4f})\")\n",
        "\n",
        "    print(\"\\n✅ Training of Cseg complete!\")\n",
        "\n",
        "# Run the training process\n",
        "run_training()"
      ],
      "metadata": {
        "colab": {
          "base_uri": "https://localhost:8080/"
        },
        "id": "3LRfvu61DWoV",
        "outputId": "63536c14-02df-416b-d2fc-f5d993ef0c80"
      },
      "execution_count": 29,
      "outputs": [
        {
          "metadata": {
            "tags": null
          },
          "name": "stdout",
          "output_type": "stream",
          "text": [
            "Using device: cuda\n",
            "\n",
            "--- Epoch 1/25 ---\n"
          ]
        },
        {
          "metadata": {
            "tags": null
          },
          "name": "stderr",
          "output_type": "stream",
          "text": [
            "Training: 100%|██████████| 88/88 [06:22<00:00,  4.34s/it]\n",
            "Validating: 100%|██████████| 19/19 [01:27<00:00,  4.58s/it]\n"
          ]
        },
        {
          "metadata": {
            "tags": null
          },
          "name": "stdout",
          "output_type": "stream",
          "text": [
            "Train Loss: 1.4151 | Val Loss: 1.1972 | Val Dice Score: 0.4877\n",
            "✨ New best model saved to /content/drive/MyDrive/CAF-GAN/outputs/cseg/best_cseg_colab.pth (Dice: 0.4877)\n",
            "\n",
            "--- Epoch 2/25 ---\n"
          ]
        },
        {
          "metadata": {
            "tags": null
          },
          "name": "stderr",
          "output_type": "stream",
          "text": [
            "Training: 100%|██████████| 88/88 [02:50<00:00,  1.93s/it]\n",
            "Validating: 100%|██████████| 19/19 [00:37<00:00,  1.97s/it]\n"
          ]
        },
        {
          "metadata": {
            "tags": null
          },
          "name": "stdout",
          "output_type": "stream",
          "text": [
            "Train Loss: 1.1507 | Val Loss: 1.0915 | Val Dice Score: 0.5214\n",
            "✨ New best model saved to /content/drive/MyDrive/CAF-GAN/outputs/cseg/best_cseg_colab.pth (Dice: 0.5214)\n",
            "\n",
            "--- Epoch 3/25 ---\n"
          ]
        },
        {
          "metadata": {
            "tags": null
          },
          "name": "stderr",
          "output_type": "stream",
          "text": [
            "Training: 100%|██████████| 88/88 [02:57<00:00,  2.01s/it]\n",
            "Validating: 100%|██████████| 19/19 [00:36<00:00,  1.91s/it]\n"
          ]
        },
        {
          "metadata": {
            "tags": null
          },
          "name": "stdout",
          "output_type": "stream",
          "text": [
            "Train Loss: 1.0399 | Val Loss: 1.0155 | Val Dice Score: 0.5247\n",
            "✨ New best model saved to /content/drive/MyDrive/CAF-GAN/outputs/cseg/best_cseg_colab.pth (Dice: 0.5247)\n",
            "\n",
            "--- Epoch 4/25 ---\n"
          ]
        },
        {
          "metadata": {
            "tags": null
          },
          "name": "stderr",
          "output_type": "stream",
          "text": [
            "Training: 100%|██████████| 88/88 [02:54<00:00,  1.98s/it]\n",
            "Validating: 100%|██████████| 19/19 [00:35<00:00,  1.86s/it]\n"
          ]
        },
        {
          "metadata": {
            "tags": null
          },
          "name": "stdout",
          "output_type": "stream",
          "text": [
            "Train Loss: 0.9856 | Val Loss: 0.9722 | Val Dice Score: 0.5318\n",
            "✨ New best model saved to /content/drive/MyDrive/CAF-GAN/outputs/cseg/best_cseg_colab.pth (Dice: 0.5318)\n",
            "\n",
            "--- Epoch 5/25 ---\n"
          ]
        },
        {
          "metadata": {
            "tags": null
          },
          "name": "stderr",
          "output_type": "stream",
          "text": [
            "Training: 100%|██████████| 88/88 [02:56<00:00,  2.01s/it]\n",
            "Validating: 100%|██████████| 19/19 [00:34<00:00,  1.84s/it]\n"
          ]
        },
        {
          "metadata": {
            "tags": null
          },
          "name": "stdout",
          "output_type": "stream",
          "text": [
            "Train Loss: 0.9490 | Val Loss: 0.9547 | Val Dice Score: 0.5441\n",
            "✨ New best model saved to /content/drive/MyDrive/CAF-GAN/outputs/cseg/best_cseg_colab.pth (Dice: 0.5441)\n",
            "\n",
            "--- Epoch 6/25 ---\n"
          ]
        },
        {
          "metadata": {
            "tags": null
          },
          "name": "stderr",
          "output_type": "stream",
          "text": [
            "Training: 100%|██████████| 88/88 [02:57<00:00,  2.02s/it]\n",
            "Validating: 100%|██████████| 19/19 [00:34<00:00,  1.83s/it]\n"
          ]
        },
        {
          "metadata": {
            "tags": null
          },
          "name": "stdout",
          "output_type": "stream",
          "text": [
            "Train Loss: 0.9045 | Val Loss: 0.9156 | Val Dice Score: 0.5539\n",
            "✨ New best model saved to /content/drive/MyDrive/CAF-GAN/outputs/cseg/best_cseg_colab.pth (Dice: 0.5539)\n",
            "\n",
            "--- Epoch 7/25 ---\n"
          ]
        },
        {
          "metadata": {
            "tags": null
          },
          "name": "stderr",
          "output_type": "stream",
          "text": [
            "Training: 100%|██████████| 88/88 [02:54<00:00,  1.99s/it]\n",
            "Validating: 100%|██████████| 19/19 [00:38<00:00,  2.02s/it]\n"
          ]
        },
        {
          "metadata": {
            "tags": null
          },
          "name": "stdout",
          "output_type": "stream",
          "text": [
            "Train Loss: 0.8708 | Val Loss: 0.8884 | Val Dice Score: 0.5533\n",
            "\n",
            "--- Epoch 8/25 ---\n"
          ]
        },
        {
          "metadata": {
            "tags": null
          },
          "name": "stderr",
          "output_type": "stream",
          "text": [
            "Training: 100%|██████████| 88/88 [02:51<00:00,  1.95s/it]\n",
            "Validating: 100%|██████████| 19/19 [00:34<00:00,  1.84s/it]\n"
          ]
        },
        {
          "metadata": {
            "tags": null
          },
          "name": "stdout",
          "output_type": "stream",
          "text": [
            "Train Loss: 0.8389 | Val Loss: 0.9051 | Val Dice Score: 0.5518\n",
            "\n",
            "--- Epoch 9/25 ---\n"
          ]
        },
        {
          "metadata": {
            "tags": null
          },
          "name": "stderr",
          "output_type": "stream",
          "text": [
            "Training: 100%|██████████| 88/88 [02:50<00:00,  1.94s/it]\n",
            "Validating: 100%|██████████| 19/19 [00:38<00:00,  2.01s/it]\n"
          ]
        },
        {
          "metadata": {
            "tags": null
          },
          "name": "stdout",
          "output_type": "stream",
          "text": [
            "Train Loss: 0.8210 | Val Loss: 0.8682 | Val Dice Score: 0.5572\n",
            "✨ New best model saved to /content/drive/MyDrive/CAF-GAN/outputs/cseg/best_cseg_colab.pth (Dice: 0.5572)\n",
            "\n",
            "--- Epoch 10/25 ---\n"
          ]
        },
        {
          "metadata": {
            "tags": null
          },
          "name": "stderr",
          "output_type": "stream",
          "text": [
            "Training: 100%|██████████| 88/88 [02:52<00:00,  1.96s/it]\n",
            "Validating: 100%|██████████| 19/19 [00:35<00:00,  1.89s/it]\n"
          ]
        },
        {
          "metadata": {
            "tags": null
          },
          "name": "stdout",
          "output_type": "stream",
          "text": [
            "Train Loss: 0.7962 | Val Loss: 0.8806 | Val Dice Score: 0.5533\n",
            "\n",
            "--- Epoch 11/25 ---\n"
          ]
        },
        {
          "metadata": {
            "tags": null
          },
          "name": "stderr",
          "output_type": "stream",
          "text": [
            "Training: 100%|██████████| 88/88 [02:54<00:00,  1.98s/it]\n",
            "Validating: 100%|██████████| 19/19 [00:35<00:00,  1.88s/it]\n"
          ]
        },
        {
          "metadata": {
            "tags": null
          },
          "name": "stdout",
          "output_type": "stream",
          "text": [
            "Train Loss: 0.7727 | Val Loss: 0.8492 | Val Dice Score: 0.5485\n",
            "\n",
            "--- Epoch 12/25 ---\n"
          ]
        },
        {
          "metadata": {
            "tags": null
          },
          "name": "stderr",
          "output_type": "stream",
          "text": [
            "Training: 100%|██████████| 88/88 [02:57<00:00,  2.02s/it]\n",
            "Validating: 100%|██████████| 19/19 [00:35<00:00,  1.89s/it]\n"
          ]
        },
        {
          "metadata": {
            "tags": null
          },
          "name": "stdout",
          "output_type": "stream",
          "text": [
            "Train Loss: 0.7587 | Val Loss: 0.8884 | Val Dice Score: 0.5626\n",
            "✨ New best model saved to /content/drive/MyDrive/CAF-GAN/outputs/cseg/best_cseg_colab.pth (Dice: 0.5626)\n",
            "\n",
            "--- Epoch 13/25 ---\n"
          ]
        },
        {
          "metadata": {
            "tags": null
          },
          "name": "stderr",
          "output_type": "stream",
          "text": [
            "Training: 100%|██████████| 88/88 [02:58<00:00,  2.02s/it]\n",
            "Validating: 100%|██████████| 19/19 [00:37<00:00,  1.97s/it]\n"
          ]
        },
        {
          "metadata": {
            "tags": null
          },
          "name": "stdout",
          "output_type": "stream",
          "text": [
            "Train Loss: 0.7447 | Val Loss: 0.8400 | Val Dice Score: 0.5624\n",
            "\n",
            "--- Epoch 14/25 ---\n"
          ]
        },
        {
          "metadata": {
            "tags": null
          },
          "name": "stderr",
          "output_type": "stream",
          "text": [
            "Training: 100%|██████████| 88/88 [02:55<00:00,  1.99s/it]\n",
            "Validating: 100%|██████████| 19/19 [00:36<00:00,  1.92s/it]\n"
          ]
        },
        {
          "metadata": {
            "tags": null
          },
          "name": "stdout",
          "output_type": "stream",
          "text": [
            "Train Loss: 0.7357 | Val Loss: 0.8359 | Val Dice Score: 0.5653\n",
            "✨ New best model saved to /content/drive/MyDrive/CAF-GAN/outputs/cseg/best_cseg_colab.pth (Dice: 0.5653)\n",
            "\n",
            "--- Epoch 15/25 ---\n"
          ]
        },
        {
          "metadata": {
            "tags": null
          },
          "name": "stderr",
          "output_type": "stream",
          "text": [
            "Training: 100%|██████████| 88/88 [02:55<00:00,  1.99s/it]\n",
            "Validating: 100%|██████████| 19/19 [00:34<00:00,  1.82s/it]\n"
          ]
        },
        {
          "metadata": {
            "tags": null
          },
          "name": "stdout",
          "output_type": "stream",
          "text": [
            "Train Loss: 0.7148 | Val Loss: 0.8330 | Val Dice Score: 0.5731\n",
            "✨ New best model saved to /content/drive/MyDrive/CAF-GAN/outputs/cseg/best_cseg_colab.pth (Dice: 0.5731)\n",
            "\n",
            "--- Epoch 16/25 ---\n"
          ]
        },
        {
          "metadata": {
            "tags": null
          },
          "name": "stderr",
          "output_type": "stream",
          "text": [
            "Training: 100%|██████████| 88/88 [02:57<00:00,  2.01s/it]\n",
            "Validating: 100%|██████████| 19/19 [00:35<00:00,  1.84s/it]\n"
          ]
        },
        {
          "metadata": {
            "tags": null
          },
          "name": "stdout",
          "output_type": "stream",
          "text": [
            "Train Loss: 0.7067 | Val Loss: 0.8356 | Val Dice Score: 0.5560\n",
            "\n",
            "--- Epoch 17/25 ---\n"
          ]
        },
        {
          "metadata": {
            "tags": null
          },
          "name": "stderr",
          "output_type": "stream",
          "text": [
            "Training: 100%|██████████| 88/88 [02:50<00:00,  1.94s/it]\n",
            "Validating: 100%|██████████| 19/19 [00:34<00:00,  1.83s/it]\n"
          ]
        },
        {
          "metadata": {
            "tags": null
          },
          "name": "stdout",
          "output_type": "stream",
          "text": [
            "Train Loss: 0.6907 | Val Loss: 0.8467 | Val Dice Score: 0.5715\n",
            "\n",
            "--- Epoch 18/25 ---\n"
          ]
        },
        {
          "metadata": {
            "tags": null
          },
          "name": "stderr",
          "output_type": "stream",
          "text": [
            "Training: 100%|██████████| 88/88 [02:52<00:00,  1.95s/it]\n",
            "Validating: 100%|██████████| 19/19 [00:38<00:00,  2.03s/it]\n"
          ]
        },
        {
          "metadata": {
            "tags": null
          },
          "name": "stdout",
          "output_type": "stream",
          "text": [
            "Train Loss: 0.6832 | Val Loss: 0.8392 | Val Dice Score: 0.5487\n",
            "\n",
            "--- Epoch 19/25 ---\n"
          ]
        },
        {
          "metadata": {
            "tags": null
          },
          "name": "stderr",
          "output_type": "stream",
          "text": [
            "Training: 100%|██████████| 88/88 [02:51<00:00,  1.95s/it]\n",
            "Validating: 100%|██████████| 19/19 [00:34<00:00,  1.82s/it]\n"
          ]
        },
        {
          "metadata": {
            "tags": null
          },
          "name": "stdout",
          "output_type": "stream",
          "text": [
            "Train Loss: 0.6717 | Val Loss: 0.8282 | Val Dice Score: 0.5662\n",
            "\n",
            "--- Epoch 20/25 ---\n"
          ]
        },
        {
          "metadata": {
            "tags": null
          },
          "name": "stderr",
          "output_type": "stream",
          "text": [
            "Training: 100%|██████████| 88/88 [02:53<00:00,  1.98s/it]\n",
            "Validating: 100%|██████████| 19/19 [00:38<00:00,  2.03s/it]\n"
          ]
        },
        {
          "metadata": {
            "tags": null
          },
          "name": "stdout",
          "output_type": "stream",
          "text": [
            "Train Loss: 0.6619 | Val Loss: 0.8302 | Val Dice Score: 0.5755\n",
            "✨ New best model saved to /content/drive/MyDrive/CAF-GAN/outputs/cseg/best_cseg_colab.pth (Dice: 0.5755)\n",
            "\n",
            "--- Epoch 21/25 ---\n"
          ]
        },
        {
          "metadata": {
            "tags": null
          },
          "name": "stderr",
          "output_type": "stream",
          "text": [
            "Training: 100%|██████████| 88/88 [02:53<00:00,  1.97s/it]\n",
            "Validating: 100%|██████████| 19/19 [00:34<00:00,  1.84s/it]\n"
          ]
        },
        {
          "metadata": {
            "tags": null
          },
          "name": "stdout",
          "output_type": "stream",
          "text": [
            "Train Loss: 0.6536 | Val Loss: 0.8249 | Val Dice Score: 0.5765\n",
            "✨ New best model saved to /content/drive/MyDrive/CAF-GAN/outputs/cseg/best_cseg_colab.pth (Dice: 0.5765)\n",
            "\n",
            "--- Epoch 22/25 ---\n"
          ]
        },
        {
          "output_type": "stream",
          "name": "stderr",
          "text": [
            "Training: 100%|██████████| 88/88 [02:55<00:00,  1.99s/it]\n",
            "Validating: 100%|██████████| 19/19 [00:37<00:00,  1.97s/it]\n"
          ]
        },
        {
          "output_type": "stream",
          "name": "stdout",
          "text": [
            "Train Loss: 0.6430 | Val Loss: 0.8377 | Val Dice Score: 0.5668\n",
            "\n",
            "--- Epoch 23/25 ---\n"
          ]
        },
        {
          "output_type": "stream",
          "name": "stderr",
          "text": [
            "Training: 100%|██████████| 88/88 [02:50<00:00,  1.94s/it]\n",
            "Validating: 100%|██████████| 19/19 [00:36<00:00,  1.93s/it]\n"
          ]
        },
        {
          "output_type": "stream",
          "name": "stdout",
          "text": [
            "Train Loss: 0.6359 | Val Loss: 0.8312 | Val Dice Score: 0.5656\n",
            "\n",
            "--- Epoch 24/25 ---\n"
          ]
        },
        {
          "output_type": "stream",
          "name": "stderr",
          "text": [
            "Training: 100%|██████████| 88/88 [02:47<00:00,  1.90s/it]\n",
            "Validating: 100%|██████████| 19/19 [00:36<00:00,  1.92s/it]\n"
          ]
        },
        {
          "output_type": "stream",
          "name": "stdout",
          "text": [
            "Train Loss: 0.6295 | Val Loss: 0.8266 | Val Dice Score: 0.5761\n",
            "\n",
            "--- Epoch 25/25 ---\n"
          ]
        },
        {
          "output_type": "stream",
          "name": "stderr",
          "text": [
            "Training: 100%|██████████| 88/88 [02:50<00:00,  1.94s/it]\n",
            "Validating: 100%|██████████| 19/19 [00:34<00:00,  1.80s/it]"
          ]
        },
        {
          "output_type": "stream",
          "name": "stdout",
          "text": [
            "Train Loss: 0.6226 | Val Loss: 0.8218 | Val Dice Score: 0.5686\n",
            "\n",
            "✅ Training of Cseg complete!\n"
          ]
        },
        {
          "output_type": "stream",
          "name": "stderr",
          "text": [
            "\n"
          ]
        }
      ]
    }
  ]
}